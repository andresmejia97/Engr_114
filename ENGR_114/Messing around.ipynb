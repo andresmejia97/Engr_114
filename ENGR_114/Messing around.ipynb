{
 "cells": [
  {
   "cell_type": "code",
   "execution_count": 4,
   "id": "2ebc9515",
   "metadata": {},
   "outputs": [
    {
     "name": "stdout",
     "output_type": "stream",
     "text": [
      "give me your name dre\n",
      "your name is dre\n"
     ]
    }
   ],
   "source": [
    "name = input('give me your name ')\n",
    "print('your name is ' + name)"
   ]
  },
  {
   "cell_type": "code",
   "execution_count": 9,
   "id": "eaac7ee7",
   "metadata": {},
   "outputs": [
    {
     "name": "stdout",
     "output_type": "stream",
     "text": [
      "how old are you 25\n",
      "you are 25 years old\n"
     ]
    }
   ],
   "source": [
    "age = int(input('how old are you '))\n",
    "print('you are', age, 'years old')"
   ]
  },
  {
   "cell_type": "code",
   "execution_count": 13,
   "id": "719cfe04",
   "metadata": {},
   "outputs": [
    {
     "name": "stdout",
     "output_type": "stream",
     "text": [
      "your name is dre and you will turn 100 in 75 years\n"
     ]
    }
   ],
   "source": [
    "print('your name is', name, 'and you will turn 100 in' , 100-age, 'years')"
   ]
  },
  {
   "cell_type": "code",
   "execution_count": 15,
   "id": "66d0f8c8",
   "metadata": {},
   "outputs": [
    {
     "ename": "SyntaxError",
     "evalue": "invalid syntax (942285118.py, line 1)",
     "output_type": "error",
     "traceback": [
      "\u001b[0;36m  File \u001b[0;32m\"/var/folders/yk/k5d_7hg57nx8x0bm9kq7myl80000gn/T/ipykernel_2112/942285118.py\"\u001b[0;36m, line \u001b[0;32m1\u001b[0m\n\u001b[0;31m    np.random.random(100) a /= a.sum(100)\u001b[0m\n\u001b[0m                          ^\u001b[0m\n\u001b[0;31mSyntaxError\u001b[0m\u001b[0;31m:\u001b[0m invalid syntax\n"
     ]
    }
   ],
   "source": [
    "np.random.random(100) a /= a.sum(100)"
   ]
  },
  {
   "cell_type": "code",
   "execution_count": null,
   "id": "5f0c2ac1",
   "metadata": {},
   "outputs": [],
   "source": []
  }
 ],
 "metadata": {
  "kernelspec": {
   "display_name": "Python 3 (ipykernel)",
   "language": "python",
   "name": "python3"
  },
  "language_info": {
   "codemirror_mode": {
    "name": "ipython",
    "version": 3
   },
   "file_extension": ".py",
   "mimetype": "text/x-python",
   "name": "python",
   "nbconvert_exporter": "python",
   "pygments_lexer": "ipython3",
   "version": "3.9.13"
  }
 },
 "nbformat": 4,
 "nbformat_minor": 5
}
