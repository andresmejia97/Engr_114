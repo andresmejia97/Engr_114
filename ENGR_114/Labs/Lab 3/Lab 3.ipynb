{
 "cells": [
  {
   "cell_type": "markdown",
   "id": "274dac44",
   "metadata": {},
   "source": [
    "Andres Mejia\\\n",
    "Lab 3\\\n",
    "Engr 114"
   ]
  },
  {
   "cell_type": "markdown",
   "id": "a1baf758",
   "metadata": {},
   "source": [
    "# Sifting Weather Data"
   ]
  },
  {
   "cell_type": "code",
   "execution_count": 1,
   "id": "0700c9a1",
   "metadata": {},
   "outputs": [],
   "source": [
    "import numpy as np\n",
    "import pandas as pd"
   ]
  },
  {
   "cell_type": "code",
   "execution_count": 2,
   "id": "6d28b8a1",
   "metadata": {},
   "outputs": [],
   "source": [
    "df = pd.read_excel('weather_data.xlsx', header=None)"
   ]
  },
  {
   "cell_type": "code",
   "execution_count": 3,
   "id": "c544460d",
   "metadata": {},
   "outputs": [
    {
     "name": "stdout",
     "output_type": "stream",
     "text": [
      "(12, 31)\n"
     ]
    },
    {
     "data": {
      "text/html": [
       "<div>\n",
       "<style scoped>\n",
       "    .dataframe tbody tr th:only-of-type {\n",
       "        vertical-align: middle;\n",
       "    }\n",
       "\n",
       "    .dataframe tbody tr th {\n",
       "        vertical-align: top;\n",
       "    }\n",
       "\n",
       "    .dataframe thead th {\n",
       "        text-align: right;\n",
       "    }\n",
       "</style>\n",
       "<table border=\"1\" class=\"dataframe\">\n",
       "  <thead>\n",
       "    <tr style=\"text-align: right;\">\n",
       "      <th></th>\n",
       "      <th>0</th>\n",
       "      <th>1</th>\n",
       "      <th>2</th>\n",
       "      <th>3</th>\n",
       "      <th>4</th>\n",
       "      <th>5</th>\n",
       "      <th>6</th>\n",
       "      <th>7</th>\n",
       "      <th>8</th>\n",
       "      <th>9</th>\n",
       "      <th>...</th>\n",
       "      <th>21</th>\n",
       "      <th>22</th>\n",
       "      <th>23</th>\n",
       "      <th>24</th>\n",
       "      <th>25</th>\n",
       "      <th>26</th>\n",
       "      <th>27</th>\n",
       "      <th>28</th>\n",
       "      <th>29</th>\n",
       "      <th>30</th>\n",
       "    </tr>\n",
       "  </thead>\n",
       "  <tbody>\n",
       "    <tr>\n",
       "      <th>0</th>\n",
       "      <td>0</td>\n",
       "      <td>0</td>\n",
       "      <td>272</td>\n",
       "      <td>0</td>\n",
       "      <td>0</td>\n",
       "      <td>0</td>\n",
       "      <td>0</td>\n",
       "      <td>9</td>\n",
       "      <td>26</td>\n",
       "      <td>1</td>\n",
       "      <td>...</td>\n",
       "      <td>1</td>\n",
       "      <td>15</td>\n",
       "      <td>224</td>\n",
       "      <td>0</td>\n",
       "      <td>0</td>\n",
       "      <td>0</td>\n",
       "      <td>0</td>\n",
       "      <td>0</td>\n",
       "      <td>33</td>\n",
       "      <td>33</td>\n",
       "    </tr>\n",
       "    <tr>\n",
       "      <th>1</th>\n",
       "      <td>61</td>\n",
       "      <td>103</td>\n",
       "      <td>0</td>\n",
       "      <td>2</td>\n",
       "      <td>0</td>\n",
       "      <td>0</td>\n",
       "      <td>0</td>\n",
       "      <td>2</td>\n",
       "      <td>0</td>\n",
       "      <td>68</td>\n",
       "      <td>...</td>\n",
       "      <td>0</td>\n",
       "      <td>0</td>\n",
       "      <td>5</td>\n",
       "      <td>0</td>\n",
       "      <td>0</td>\n",
       "      <td>0</td>\n",
       "      <td>62</td>\n",
       "      <td>-99999</td>\n",
       "      <td>-99999</td>\n",
       "      <td>-99999</td>\n",
       "    </tr>\n",
       "    <tr>\n",
       "      <th>2</th>\n",
       "      <td>2</td>\n",
       "      <td>0</td>\n",
       "      <td>17</td>\n",
       "      <td>27</td>\n",
       "      <td>0</td>\n",
       "      <td>10</td>\n",
       "      <td>0</td>\n",
       "      <td>0</td>\n",
       "      <td>30</td>\n",
       "      <td>25</td>\n",
       "      <td>...</td>\n",
       "      <td>26</td>\n",
       "      <td>0</td>\n",
       "      <td>0</td>\n",
       "      <td>9</td>\n",
       "      <td>6</td>\n",
       "      <td>78</td>\n",
       "      <td>0</td>\n",
       "      <td>5</td>\n",
       "      <td>8</td>\n",
       "      <td>0</td>\n",
       "    </tr>\n",
       "    <tr>\n",
       "      <th>3</th>\n",
       "      <td>260</td>\n",
       "      <td>1</td>\n",
       "      <td>0</td>\n",
       "      <td>0</td>\n",
       "      <td>0</td>\n",
       "      <td>1</td>\n",
       "      <td>3</td>\n",
       "      <td>0</td>\n",
       "      <td>5</td>\n",
       "      <td>0</td>\n",
       "      <td>...</td>\n",
       "      <td>0</td>\n",
       "      <td>0</td>\n",
       "      <td>0</td>\n",
       "      <td>0</td>\n",
       "      <td>9</td>\n",
       "      <td>35</td>\n",
       "      <td>13</td>\n",
       "      <td>86</td>\n",
       "      <td>0</td>\n",
       "      <td>-99999</td>\n",
       "    </tr>\n",
       "    <tr>\n",
       "      <th>4</th>\n",
       "      <td>47</td>\n",
       "      <td>0</td>\n",
       "      <td>0</td>\n",
       "      <td>0</td>\n",
       "      <td>5</td>\n",
       "      <td>115</td>\n",
       "      <td>49</td>\n",
       "      <td>81</td>\n",
       "      <td>0</td>\n",
       "      <td>0</td>\n",
       "      <td>...</td>\n",
       "      <td>0</td>\n",
       "      <td>0</td>\n",
       "      <td>0</td>\n",
       "      <td>0</td>\n",
       "      <td>0</td>\n",
       "      <td>2</td>\n",
       "      <td>0</td>\n",
       "      <td>0</td>\n",
       "      <td>0</td>\n",
       "      <td>0</td>\n",
       "    </tr>\n",
       "    <tr>\n",
       "      <th>5</th>\n",
       "      <td>0</td>\n",
       "      <td>0</td>\n",
       "      <td>30</td>\n",
       "      <td>42</td>\n",
       "      <td>0</td>\n",
       "      <td>0</td>\n",
       "      <td>0</td>\n",
       "      <td>0</td>\n",
       "      <td>0</td>\n",
       "      <td>0</td>\n",
       "      <td>...</td>\n",
       "      <td>0</td>\n",
       "      <td>2</td>\n",
       "      <td>2</td>\n",
       "      <td>240</td>\n",
       "      <td>16</td>\n",
       "      <td>35</td>\n",
       "      <td>14</td>\n",
       "      <td>14</td>\n",
       "      <td>8</td>\n",
       "      <td>-99999</td>\n",
       "    </tr>\n",
       "    <tr>\n",
       "      <th>6</th>\n",
       "      <td>0</td>\n",
       "      <td>0</td>\n",
       "      <td>0</td>\n",
       "      <td>0</td>\n",
       "      <td>0</td>\n",
       "      <td>0</td>\n",
       "      <td>0</td>\n",
       "      <td>7</td>\n",
       "      <td>0</td>\n",
       "      <td>0</td>\n",
       "      <td>...</td>\n",
       "      <td>0</td>\n",
       "      <td>0</td>\n",
       "      <td>0</td>\n",
       "      <td>10</td>\n",
       "      <td>0</td>\n",
       "      <td>0</td>\n",
       "      <td>5</td>\n",
       "      <td>0</td>\n",
       "      <td>0</td>\n",
       "      <td>0</td>\n",
       "    </tr>\n",
       "    <tr>\n",
       "      <th>7</th>\n",
       "      <td>0</td>\n",
       "      <td>45</td>\n",
       "      <td>0</td>\n",
       "      <td>0</td>\n",
       "      <td>0</td>\n",
       "      <td>0</td>\n",
       "      <td>0</td>\n",
       "      <td>0</td>\n",
       "      <td>5</td>\n",
       "      <td>0</td>\n",
       "      <td>...</td>\n",
       "      <td>0</td>\n",
       "      <td>0</td>\n",
       "      <td>158</td>\n",
       "      <td>62</td>\n",
       "      <td>1</td>\n",
       "      <td>0</td>\n",
       "      <td>0</td>\n",
       "      <td>0</td>\n",
       "      <td>0</td>\n",
       "      <td>0</td>\n",
       "    </tr>\n",
       "    <tr>\n",
       "      <th>8</th>\n",
       "      <td>0</td>\n",
       "      <td>0</td>\n",
       "      <td>0</td>\n",
       "      <td>0</td>\n",
       "      <td>0</td>\n",
       "      <td>0</td>\n",
       "      <td>0</td>\n",
       "      <td>0</td>\n",
       "      <td>0</td>\n",
       "      <td>0</td>\n",
       "      <td>...</td>\n",
       "      <td>37</td>\n",
       "      <td>0</td>\n",
       "      <td>0</td>\n",
       "      <td>0</td>\n",
       "      <td>0</td>\n",
       "      <td>6</td>\n",
       "      <td>138</td>\n",
       "      <td>58</td>\n",
       "      <td>10</td>\n",
       "      <td>-99999</td>\n",
       "    </tr>\n",
       "    <tr>\n",
       "      <th>9</th>\n",
       "      <td>0</td>\n",
       "      <td>0</td>\n",
       "      <td>0</td>\n",
       "      <td>14</td>\n",
       "      <td>156</td>\n",
       "      <td>0</td>\n",
       "      <td>0</td>\n",
       "      <td>0</td>\n",
       "      <td>0</td>\n",
       "      <td>110</td>\n",
       "      <td>...</td>\n",
       "      <td>0</td>\n",
       "      <td>0</td>\n",
       "      <td>0</td>\n",
       "      <td>0</td>\n",
       "      <td>0</td>\n",
       "      <td>0</td>\n",
       "      <td>0</td>\n",
       "      <td>0</td>\n",
       "      <td>0</td>\n",
       "      <td>1</td>\n",
       "    </tr>\n",
       "    <tr>\n",
       "      <th>10</th>\n",
       "      <td>1</td>\n",
       "      <td>163</td>\n",
       "      <td>5</td>\n",
       "      <td>0</td>\n",
       "      <td>0</td>\n",
       "      <td>0</td>\n",
       "      <td>0</td>\n",
       "      <td>0</td>\n",
       "      <td>0</td>\n",
       "      <td>0</td>\n",
       "      <td>...</td>\n",
       "      <td>0</td>\n",
       "      <td>2</td>\n",
       "      <td>2</td>\n",
       "      <td>10</td>\n",
       "      <td>255</td>\n",
       "      <td>2</td>\n",
       "      <td>0</td>\n",
       "      <td>0</td>\n",
       "      <td>0</td>\n",
       "      <td>-99999</td>\n",
       "    </tr>\n",
       "    <tr>\n",
       "      <th>11</th>\n",
       "      <td>0</td>\n",
       "      <td>0</td>\n",
       "      <td>0</td>\n",
       "      <td>0</td>\n",
       "      <td>0</td>\n",
       "      <td>45</td>\n",
       "      <td>0</td>\n",
       "      <td>0</td>\n",
       "      <td>0</td>\n",
       "      <td>15</td>\n",
       "      <td>...</td>\n",
       "      <td>34</td>\n",
       "      <td>0</td>\n",
       "      <td>0</td>\n",
       "      <td>0</td>\n",
       "      <td>0</td>\n",
       "      <td>0</td>\n",
       "      <td>0</td>\n",
       "      <td>0</td>\n",
       "      <td>0</td>\n",
       "      <td>0</td>\n",
       "    </tr>\n",
       "  </tbody>\n",
       "</table>\n",
       "<p>12 rows × 31 columns</p>\n",
       "</div>"
      ],
      "text/plain": [
       "     0    1    2   3    4    5   6   7   8    9   ...  21  22   23   24   25  \\\n",
       "0     0    0  272   0    0    0   0   9  26    1  ...   1  15  224    0    0   \n",
       "1    61  103    0   2    0    0   0   2   0   68  ...   0   0    5    0    0   \n",
       "2     2    0   17  27    0   10   0   0  30   25  ...  26   0    0    9    6   \n",
       "3   260    1    0   0    0    1   3   0   5    0  ...   0   0    0    0    9   \n",
       "4    47    0    0   0    5  115  49  81   0    0  ...   0   0    0    0    0   \n",
       "5     0    0   30  42    0    0   0   0   0    0  ...   0   2    2  240   16   \n",
       "6     0    0    0   0    0    0   0   7   0    0  ...   0   0    0   10    0   \n",
       "7     0   45    0   0    0    0   0   0   5    0  ...   0   0  158   62    1   \n",
       "8     0    0    0   0    0    0   0   0   0    0  ...  37   0    0    0    0   \n",
       "9     0    0    0  14  156    0   0   0   0  110  ...   0   0    0    0    0   \n",
       "10    1  163    5   0    0    0   0   0   0    0  ...   0   2    2   10  255   \n",
       "11    0    0    0   0    0   45   0   0   0   15  ...  34   0    0    0    0   \n",
       "\n",
       "    26   27     28     29     30  \n",
       "0    0    0      0     33     33  \n",
       "1    0   62 -99999 -99999 -99999  \n",
       "2   78    0      5      8      0  \n",
       "3   35   13     86      0 -99999  \n",
       "4    2    0      0      0      0  \n",
       "5   35   14     14      8 -99999  \n",
       "6    0    5      0      0      0  \n",
       "7    0    0      0      0      0  \n",
       "8    6  138     58     10 -99999  \n",
       "9    0    0      0      0      1  \n",
       "10   2    0      0      0 -99999  \n",
       "11   0    0      0      0      0  \n",
       "\n",
       "[12 rows x 31 columns]"
      ]
     },
     "execution_count": 3,
     "metadata": {},
     "output_type": "execute_result"
    }
   ],
   "source": [
    "print(df.shape)\n",
    "df"
   ]
  },
  {
   "cell_type": "code",
   "execution_count": 4,
   "id": "27b6c09b",
   "metadata": {},
   "outputs": [],
   "source": [
    "wd = np.array(df)"
   ]
  },
  {
   "cell_type": "code",
   "execution_count": 5,
   "id": "284fb735",
   "metadata": {},
   "outputs": [
    {
     "name": "stdout",
     "output_type": "stream",
     "text": [
      "<class 'numpy.ndarray'>\n",
      "(12, 31)\n"
     ]
    }
   ],
   "source": [
    "print(type(wd))\n",
    "print(wd.shape)"
   ]
  },
  {
   "cell_type": "code",
   "execution_count": 6,
   "id": "7070196c",
   "metadata": {},
   "outputs": [],
   "source": [
    "wd = wd*0.01"
   ]
  },
  {
   "cell_type": "code",
   "execution_count": 7,
   "id": "29488d9a",
   "metadata": {},
   "outputs": [
    {
     "name": "stdout",
     "output_type": "stream",
     "text": [
      "[0.   0.   2.72 0.   0.   0.   0.   0.09 0.26 0.01 0.   0.   0.   0.5\n",
      " 0.85 0.   0.   0.9  0.09 0.   0.   0.01 0.15 2.24 0.   0.   0.   0.\n",
      " 0.   0.33 0.33]\n"
     ]
    }
   ],
   "source": [
    "m = 0\n",
    "md = wd[m,:]\n",
    "print(md)"
   ]
  },
  {
   "cell_type": "code",
   "execution_count": 8,
   "id": "378b0564",
   "metadata": {},
   "outputs": [
    {
     "data": {
      "text/plain": [
       "0.2735483870967742"
      ]
     },
     "execution_count": 8,
     "metadata": {},
     "output_type": "execute_result"
    }
   ],
   "source": [
    "np.mean(md)"
   ]
  },
  {
   "cell_type": "code",
   "execution_count": 9,
   "id": "efe363c1",
   "metadata": {},
   "outputs": [
    {
     "data": {
      "text/plain": [
       "array([ True,  True,  True,  True,  True,  True,  True,  True,  True,\n",
       "        True,  True,  True,  True,  True,  True,  True,  True,  True,\n",
       "        True,  True,  True,  True,  True,  True,  True,  True,  True,\n",
       "        True,  True,  True,  True])"
      ]
     },
     "execution_count": 9,
     "metadata": {},
     "output_type": "execute_result"
    }
   ],
   "source": [
    "md>-1"
   ]
  },
  {
   "cell_type": "code",
   "execution_count": 10,
   "id": "e26b1ffb",
   "metadata": {},
   "outputs": [
    {
     "name": "stdout",
     "output_type": "stream",
     "text": [
      "[0.   0.   2.72 0.   0.   0.   0.   0.09 0.26 0.01 0.   0.   0.   0.5\n",
      " 0.85 0.   0.   0.9  0.09 0.   0.   0.01 0.15 2.24 0.   0.   0.   0.\n",
      " 0.   0.33 0.33]\n"
     ]
    }
   ],
   "source": [
    "mask = md>-1\n",
    "md = md[mask]\n",
    "print(md)"
   ]
  },
  {
   "cell_type": "code",
   "execution_count": 11,
   "id": "b4f244bc",
   "metadata": {},
   "outputs": [],
   "source": [
    "# m_avg: average inches fallen in month m\n",
    "# • m_max: maximum inches fallen in month m\n",
    "# • d_max: day(s) of month m in which m_max inches fell\n",
    "# • nd_zero: number of day(s) of month m in which zero inches fell\n",
    "# • d_zero: day(s) of month m in which zero inches fell\n",
    "# • d_nonzero: day(s) of month m in which at least some rain fell\n",
    "# • nd_nonzero: number of day(s) in month m in which at least some rain fell\n",
    "# • m_avg_nonzero: average inches of only day(s) in which some rain fell"
   ]
  },
  {
   "cell_type": "code",
   "execution_count": 12,
   "id": "4f56112a",
   "metadata": {},
   "outputs": [
    {
     "name": "stdout",
     "output_type": "stream",
     "text": [
      "maximum inches fallen in month m:  0.2735483870967742\n"
     ]
    }
   ],
   "source": [
    "m_avg = np.mean(md)\n",
    "print('maximum inches fallen in month m: ', m_avg)"
   ]
  },
  {
   "cell_type": "code",
   "execution_count": 13,
   "id": "037ab325",
   "metadata": {},
   "outputs": [
    {
     "name": "stdout",
     "output_type": "stream",
     "text": [
      "maximum inches fallen in month m:  2.72\n"
     ]
    }
   ],
   "source": [
    "m_max = np.max(md)\n",
    "print('maximum inches fallen in month m: ', m_max)"
   ]
  },
  {
   "cell_type": "code",
   "execution_count": 14,
   "id": "dd544555",
   "metadata": {},
   "outputs": [
    {
     "name": "stdout",
     "output_type": "stream",
     "text": [
      "day(s) of month m in which m_max inches fell:  3\n"
     ]
    }
   ],
   "source": [
    "d_max = np.where(md==m_max)\n",
    "print('day(s) of month m in which m_max inches fell: ', d_max[0][0]+1)"
   ]
  },
  {
   "cell_type": "code",
   "execution_count": 15,
   "id": "0b482253",
   "metadata": {},
   "outputs": [
    {
     "name": "stdout",
     "output_type": "stream",
     "text": [
      "number of day(s) of month m in which zero inches fell:  18\n"
     ]
    }
   ],
   "source": [
    "nd_zero = np.where(md==0)\n",
    "print('number of day(s) of month m in which zero inches fell: ', np.size(nd_zero))"
   ]
  },
  {
   "cell_type": "code",
   "execution_count": 16,
   "id": "40bfda70",
   "metadata": {},
   "outputs": [
    {
     "name": "stdout",
     "output_type": "stream",
     "text": [
      "day(s) of month m in which zero inches fell:  1 2 4 5 6 7 11 12 13 16 17 20 21 25 26 27 28 29\n"
     ]
    }
   ],
   "source": [
    "d_zero = np.where(md==0)\n",
    "print('day(s) of month m in which zero inches fell: ', *d_zero[0]+1) # how do i get first comma out"
   ]
  },
  {
   "cell_type": "code",
   "execution_count": 17,
   "id": "9b9765e9",
   "metadata": {},
   "outputs": [
    {
     "name": "stdout",
     "output_type": "stream",
     "text": [
      "day(s) of month m in which at least some rain fell:  2 7 8 9 13 14 17 18 21 22 23 29 30\n"
     ]
    }
   ],
   "source": [
    "d_nonzero = np.where(md>0)\n",
    "print('day(s) of month m in which at least some rain fell: ', *d_nonzero[0])"
   ]
  },
  {
   "cell_type": "code",
   "execution_count": 18,
   "id": "281bf292",
   "metadata": {},
   "outputs": [
    {
     "name": "stdout",
     "output_type": "stream",
     "text": [
      "number of day(s) in month m in which at least some rain fell:  13\n"
     ]
    }
   ],
   "source": [
    "nd_nonzero = np.where(md>0)\n",
    "print('number of day(s) in month m in which at least some rain fell: ', np.size(nd_nonzero))"
   ]
  },
  {
   "cell_type": "code",
   "execution_count": 19,
   "id": "cbe7353c",
   "metadata": {
    "scrolled": true
   },
   "outputs": [
    {
     "name": "stdout",
     "output_type": "stream",
     "text": [
      "average inches of only day(s) in which some rain fell:  0.6523076923076924\n"
     ]
    }
   ],
   "source": [
    "mask1 = md>0\n",
    "md1 = np.sum(md[mask1])\n",
    "numdays = np.size(nd_nonzero)\n",
    "\n",
    "print('average inches of only day(s) in which some rain fell: ', md1/numdays)"
   ]
  },
  {
   "cell_type": "code",
   "execution_count": 20,
   "id": "3ad47071",
   "metadata": {},
   "outputs": [
    {
     "name": "stdout",
     "output_type": "stream",
     "text": [
      "<class 'numpy.float64'>\n",
      "<class 'int'>\n"
     ]
    }
   ],
   "source": [
    "print(type(md1))\n",
    "print(type(numdays))"
   ]
  },
  {
   "cell_type": "code",
   "execution_count": null,
   "id": "bc0313f3",
   "metadata": {},
   "outputs": [],
   "source": []
  }
 ],
 "metadata": {
  "kernelspec": {
   "display_name": "Python 3 (ipykernel)",
   "language": "python",
   "name": "python3"
  },
  "language_info": {
   "codemirror_mode": {
    "name": "ipython",
    "version": 3
   },
   "file_extension": ".py",
   "mimetype": "text/x-python",
   "name": "python",
   "nbconvert_exporter": "python",
   "pygments_lexer": "ipython3",
   "version": "3.9.13"
  }
 },
 "nbformat": 4,
 "nbformat_minor": 5
}
