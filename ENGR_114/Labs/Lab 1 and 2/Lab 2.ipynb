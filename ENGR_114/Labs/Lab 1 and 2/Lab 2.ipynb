{
 "cells": [
  {
   "cell_type": "markdown",
   "id": "d39c7680-59d1-49f1-99f9-395b4c83f5ec",
   "metadata": {
    "tags": []
   },
   "source": [
    "# Lab 2\n",
    "excercises\n",
    "\n"
   ]
  },
  {
   "cell_type": "markdown",
   "id": "eb516bee-1629-4fe3-91be-3d94e307ed04",
   "metadata": {
    "tags": []
   },
   "source": [
    "# Strings and Comments\n"
   ]
  },
  {
   "cell_type": "code",
   "execution_count": 1,
   "id": "3fb08f9e-8890-4103-ab51-5d2635299ef0",
   "metadata": {},
   "outputs": [
    {
     "name": "stdout",
     "output_type": "stream",
     "text": [
      "Andres\n"
     ]
    }
   ],
   "source": [
    "print(\"Andres\") # my name"
   ]
  },
  {
   "cell_type": "code",
   "execution_count": 2,
   "id": "2fe13a2f-72c7-401e-9ebc-aed7dd736605",
   "metadata": {},
   "outputs": [
    {
     "name": "stdout",
     "output_type": "stream",
     "text": [
      "\\/\\/\\/\\/\\/\\/\n"
     ]
    }
   ],
   "source": [
    "print(\"\\/\\/\\/\\/\\/\\/\")"
   ]
  },
  {
   "cell_type": "code",
   "execution_count": 3,
   "id": "867ac678-4867-488e-b268-7306ce424283",
   "metadata": {},
   "outputs": [
    {
     "name": "stdout",
     "output_type": "stream",
     "text": [
      "13\n"
     ]
    }
   ],
   "source": [
    "print(\"13\")"
   ]
  },
  {
   "cell_type": "code",
   "execution_count": 4,
   "id": "153ad16f-76b6-4989-8f3b-3027474dcb92",
   "metadata": {},
   "outputs": [
    {
     "name": "stdout",
     "output_type": "stream",
     "text": [
      "Omega: Ω\n",
      "Delta: Δ\n",
      "Pi: π\n"
     ]
    }
   ],
   "source": [
    "print('Omega: \\u03A9')\n",
    "print('Delta: \\u0394')\n",
    "print('Pi: \\u03C0')"
   ]
  },
  {
   "cell_type": "markdown",
   "id": "27e90227-2dd0-4db2-8320-be278aba0690",
   "metadata": {},
   "source": [
    "# Integers, Floats, and Complex Numbers"
   ]
  },
  {
   "cell_type": "code",
   "execution_count": 5,
   "id": "e19116fb-1e7b-42bf-be35-d0c08a73e53c",
   "metadata": {},
   "outputs": [
    {
     "name": "stdout",
     "output_type": "stream",
     "text": [
      "2300000000, 2300000000.0, 2.3 billion\n"
     ]
    }
   ],
   "source": [
    "print(2300000000, 2.3*10**9, \"2.3 billion\", sep=\", \")"
   ]
  },
  {
   "cell_type": "code",
   "execution_count": 6,
   "id": "0ce3bb95-c9cb-444d-b2c7-202c6c49dad9",
   "metadata": {},
   "outputs": [
    {
     "data": {
      "text/plain": [
       "2.0"
      ]
     },
     "execution_count": 6,
     "metadata": {},
     "output_type": "execute_result"
    }
   ],
   "source": [
    "import numpy as np\n",
    "np.cbrt(8)"
   ]
  },
  {
   "cell_type": "code",
   "execution_count": 7,
   "id": "9ffb8599-434e-416b-9333-53a892bb5def",
   "metadata": {},
   "outputs": [
    {
     "name": "stdout",
     "output_type": "stream",
     "text": [
      "0.01μm\n"
     ]
    }
   ],
   "source": [
    "print('0.01' + '\\u03BC' + 'm')"
   ]
  },
  {
   "cell_type": "markdown",
   "id": "0f0e3c02-1f05-441c-a842-d7fb6588284d",
   "metadata": {},
   "source": [
    "# Boolean Variables"
   ]
  },
  {
   "cell_type": "code",
   "execution_count": 8,
   "id": "a13ce5d6-36e6-4790-aff6-6b3775c6f916",
   "metadata": {},
   "outputs": [
    {
     "name": "stdout",
     "output_type": "stream",
     "text": [
      "False\n",
      "True\n"
     ]
    }
   ],
   "source": [
    "x = True\n",
    "y = False\n",
    "print(x and y)\n",
    "print(x or y)"
   ]
  },
  {
   "cell_type": "markdown",
   "id": "a7f96ab3-8bc3-4438-9ce9-11afb547d7fc",
   "metadata": {},
   "source": [
    "# Data Types"
   ]
  },
  {
   "cell_type": "code",
   "execution_count": 12,
   "id": "2fec16f5-dc43-4118-9af6-1eb3a8a9549b",
   "metadata": {},
   "outputs": [
    {
     "name": "stdout",
     "output_type": "stream",
     "text": [
      "Winter Months =  December January February\n",
      "Summer Months =  ['June', 'July', 'August', 'September']\n",
      "Months with more than 30 days: , April, June, September, November\n"
     ]
    }
   ],
   "source": [
    "l = ['January', 'February', 'March', 'April', 'May', 'June', 'July', \n",
    "     'August', 'September', 'October', 'November', 'December']\n",
    "print('Winter Months = ', l[11], *l[0:2:]) # * asterisk unpakcs and get rid of side bars []\n",
    "print('Summer Months = ', l[5:9:])\n",
    "print('Months with more than 30 days: ', l[3], l[5], l[8], l[10], sep=', ')"
   ]
  },
  {
   "cell_type": "code",
   "execution_count": 10,
   "id": "6af0968a-ec70-46fd-88d5-876349386e16",
   "metadata": {},
   "outputs": [
    {
     "name": "stdout",
     "output_type": "stream",
     "text": [
      "['a', 'about', 'after', 'all', 'always', 'and', 'another', 'any', 'are', 'as', 'asked', 'at', 'away', 'back', 'bad', 'ball', 'be', 'bed', 'bent', 'bet', 'big', 'bit', 'bite', 'book', 'books', 'bow', 'box', 'bump', 'bumps', 'but', 'by', 'ca', 'cake', 'call', 'came', 'can', 'cat', 'cold', 'come', 'could', 'cup', 'day', 'dear', 'deep', 'did', 'dish', 'do', 'dots', 'down', 'fall', 'fan', 'fast', 'fear', 'fell', 'find', 'fish', 'fly', 'for', 'fox', 'from', 'fun', 'funny', 'game', 'games', 'gave', 'get', 'give', 'go', 'gone', 'good', 'got', 'gown', 'had', 'hall', 'hand', 'hands', 'has', 'hat', 'have', 'he', 'head', 'hear', 'her', 'here', 'high', 'him', 'his', 'hit', 'hold', 'home', 'hook', 'hop', 'hops', 'house', 'how', 'i', 'if', 'in', 'into', 'is', 'it', 'jump', 'jumps', 'kicks', 'kind', 'kinds', 'kite', 'kites', 'know', 'last', 'let', 'like', 'lit', 'litte', 'little', 'look', 'looked', 'lot', 'lots', 'made', 'make', 'man', 'mat', 'me', 'mess', 'milk', 'mind', 'mother', 'my', 'near', 'net', 'new', 'no', 'not', 'nothing', 'now', 'of', 'oh', 'on', 'one', 'our', 'out', 'pack', 'pat', 'pick', 'picked', 'pink', 'play', 'playthings', 'plop', 'pot', 'put', 'rake', 'ran', 'red', 'rid', 'run', 'sad', 'said', 'sally', 'sank', 'sat', 'saw', 'say', 'see', 'shake', 'shame', 'she', 'shine', 'ship', 'shook', 'should', 'show', 'shut', 'sit', 'so', 'some', 'something', 'stand', 'step', 'stop', 'string', 'strings', 'sun', 'sunny', 'tail', 'take', 'tall', 'tame', 'tell', 'that', 'the', 'their', 'them', 'then', 'there', 'these', 'they', 'thing', 'things', 'think', 'this', 'thoe', 'those', 'thump', 'thumps', 'tip', 'to', 'too', 'top', 'toy', 'trick', 'tricks', 'two', 'up', 'us', 'wall', 'want', 'was', 'way', 'we', 'well', 'went', 'were', 'wet', 'what', 'when', 'white', 'who', 'why', 'will', 'wish', 'with', 'wood', 'would', 'yes', 'yet', 'you', 'your']\n"
     ]
    }
   ],
   "source": [
    "with open('cat_in_hat_words.txt', 'r') as f:\n",
    "    words = [line.strip() for line in f.readlines()]\n",
    "print(words)"
   ]
  },
  {
   "cell_type": "code",
   "execution_count": 13,
   "id": "2bd67fa1-1a8f-4f9f-92d1-9a7a75f61136",
   "metadata": {},
   "outputs": [
    {
     "data": {
      "text/plain": [
       "239"
      ]
     },
     "execution_count": 13,
     "metadata": {},
     "output_type": "execute_result"
    }
   ],
   "source": [
    "len(words) # amount of objects in a list"
   ]
  },
  {
   "cell_type": "code",
   "execution_count": 27,
   "id": "64c16da1-0365-4e18-952c-a70768b518fe",
   "metadata": {},
   "outputs": [
    {
     "name": "stdout",
     "output_type": "stream",
     "text": [
      "the sun did not shine \n",
      " it was too wet to play\n"
     ]
    }
   ],
   "source": [
    "print(words[191], words[183], words[44], words[133], words[168], '\\n',\n",
    "     words[100], words[218], words[208], words[224], words[207], words[147])"
   ]
  },
  {
   "cell_type": "markdown",
   "id": "91bc5814-0d13-48bf-92a5-cbaa3a5655fe",
   "metadata": {},
   "source": [
    "# Dictionaries"
   ]
  },
  {
   "cell_type": "code",
   "execution_count": 34,
   "id": "a3f90a4b-5014-4c6b-8833-e2a163ac7af0",
   "metadata": {},
   "outputs": [
    {
     "name": "stdout",
     "output_type": "stream",
     "text": [
      "This term I am taking Engineering Programming ,  Physics I (calculus based) , and Calculus III\n"
     ]
    }
   ],
   "source": [
    "classes = {'ENGR114':'Engineering Programming','PHY211':'Physics I (calculus based)',\n",
    "           'MTH253':'Calculus III'}\n",
    "print('This term I am taking', classes['ENGR114'], ', ', classes['PHY211'], ', and', classes['MTH253'])"
   ]
  },
  {
   "cell_type": "code",
   "execution_count": 38,
   "id": "c3b773b5-3e0b-4f1a-8903-84ce02c186b0",
   "metadata": {},
   "outputs": [],
   "source": [
    "unichar = {'sigma':'\\u03C3', 'delta':'\\u0394', 'epilson':'\\u03B5', 'alpha':'\\u03B1', 'tau':'\\u03C4',\n",
    "           'gamma':'\\u03B3', 'mu':'\\u03BC', 'beta':'\\u03B2'}"
   ]
  },
  {
   "cell_type": "code",
   "execution_count": 40,
   "id": "4f3cb2c8-9152-4b8b-9e42-07f955a0a175",
   "metadata": {},
   "outputs": [
    {
     "name": "stdout",
     "output_type": "stream",
     "text": [
      "σ = Δ ε / Δ α\n"
     ]
    }
   ],
   "source": [
    "print(unichar['sigma'],'=', unichar['delta'], unichar['epilson'], '/', unichar['delta'], unichar['alpha'])"
   ]
  },
  {
   "cell_type": "code",
   "execution_count": 41,
   "id": "5b296fea-5c3d-40cf-84fd-17fd6e580140",
   "metadata": {},
   "outputs": [
    {
     "name": "stdout",
     "output_type": "stream",
     "text": [
      "τ = γ + ( ε + μ β )\n"
     ]
    }
   ],
   "source": [
    "print(unichar['tau'],'=', unichar['gamma'], '+ (', unichar['epilson'], '+', \n",
    "      unichar['mu'], unichar['beta'],')')"
   ]
  },
  {
   "cell_type": "code",
   "execution_count": null,
   "id": "04c19c6d-4bdd-494a-a7ca-33cdc0f0e172",
   "metadata": {},
   "outputs": [],
   "source": []
  }
 ],
 "metadata": {
  "kernelspec": {
   "display_name": "Python 3 (ipykernel)",
   "language": "python",
   "name": "python3"
  },
  "language_info": {
   "codemirror_mode": {
    "name": "ipython",
    "version": 3
   },
   "file_extension": ".py",
   "mimetype": "text/x-python",
   "name": "python",
   "nbconvert_exporter": "python",
   "pygments_lexer": "ipython3",
   "version": "3.9.13"
  }
 },
 "nbformat": 4,
 "nbformat_minor": 5
}
