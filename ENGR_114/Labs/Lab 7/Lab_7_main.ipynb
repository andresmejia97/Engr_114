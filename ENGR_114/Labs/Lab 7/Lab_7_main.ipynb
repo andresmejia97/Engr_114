{
 "cells": [
  {
   "cell_type": "markdown",
   "metadata": {},
   "source": [
    "Andres Mejia\n",
    "\n",
    "Engr 114 winter 23"
   ]
  },
  {
   "cell_type": "code",
   "execution_count": 24,
   "metadata": {},
   "outputs": [],
   "source": [
    "from math import factorial, exp, sin, radians\n",
    "from taylor_exp import taylor_exp_e, taylor_exp_sin"
   ]
  },
  {
   "cell_type": "code",
   "execution_count": 42,
   "metadata": {},
   "outputs": [
    {
     "ename": "SyntaxError",
     "evalue": "'break' outside loop (3388529963.py, line 9)",
     "output_type": "error",
     "traceback": [
      "\u001b[0;36m  File \u001b[0;32m\"/var/folders/yk/k5d_7hg57nx8x0bm9kq7myl80000gn/T/ipykernel_4478/3388529963.py\"\u001b[0;36m, line \u001b[0;32m9\u001b[0m\n\u001b[0;31m    break\u001b[0m\n\u001b[0m    ^\u001b[0m\n\u001b[0;31mSyntaxError\u001b[0m\u001b[0;31m:\u001b[0m 'break' outside loop\n"
     ]
    }
   ],
   "source": [
    "x_inp = input('enter a value for x')\n",
    "try:\n",
    "    x = float(x_inp)\n",
    "    print(f'\\'{x}\\' chosen for x')\n",
    "\n",
    "    if x > 50:\n",
    "        raise Exception('should not be greater than 50')\n",
    "        continue\n",
    "    \n",
    "\n",
    "         \n",
    "    n_inp = input('enter an integer for n (the amount of expansions wanted)')\n",
    "    try:\n",
    "        n_int = int(n_inp)\n",
    "        print(f'\\'{n_int}\\' chosen for n')\n",
    "\n",
    "        func_choice = input('enter e or sin for choice of taylor function')\n",
    "        if func_choice == 'e':\n",
    "            print('e chosen')\n",
    "            print(taylor_exp_e(x,n_int), '(taylor series)')\n",
    "            print(exp(x), '(exp function)')\n",
    "        elif func_choice == 'sin':\n",
    "            print('sin chosen')\n",
    "            print(taylor_exp_sin(x,n_int), '(taylor series)')\n",
    "            print(sin(x), '(sin function)')\n",
    "        else:\n",
    "                print(f'\\'{func_choice} not a valid choice for e or sin')     \n",
    "    except:\n",
    "        print(f'\\'{n_inp}\\' not an integer')\n",
    "except:\n",
    "    print(f'\\'{x_inp}\\' invalid input')\n",
    "\n",
    "#n_inp = input('enter an integer for n (the amount of expansions wanted)')\n",
    "#try:\n",
    "#    n_int = int(n_inp)\n",
    "#   print(f'\\'{n_int}\\' chosen for n')\n",
    "#except:\n",
    "#    print(f'\\'{n_inp}\\' not an integer')\n",
    "\n",
    "#print(taylor_exp(x_float,n_int), '(taylor series)')\n",
    "\n",
    "#print(exp(x_float), '(exp function)')"
   ]
  },
  {
   "cell_type": "code",
   "execution_count": 14,
   "metadata": {},
   "outputs": [
    {
     "name": "stdout",
     "output_type": "stream",
     "text": [
      "4.3984375\n",
      "4.4816890703380645\n"
     ]
    }
   ],
   "source": [
    "print(taylor_exp(1.5,5))\n",
    "print(exp(1.5))"
   ]
  },
  {
   "cell_type": "code",
   "execution_count": 39,
   "metadata": {},
   "outputs": [
    {
     "name": "stdout",
     "output_type": "stream",
     "text": [
      "-2.031557539903064e-11\n",
      "0.49999999999999994\n"
     ]
    }
   ],
   "source": [
    "x = radians(30)\n",
    "n_int = 5\n",
    "\n",
    "\n",
    "\n",
    "def taylor_exp_sin(x,n_int):\n",
    "    approx = 0\n",
    "    for i in range(n_int):\n",
    "        term = (-1)** n_int * (x**(2* n_int + 1))/factorial(2* n_int + 1)\n",
    "        approx = approx + term\n",
    "        return approx\n",
    "    \n",
    "print(taylor_exp_sin(x,n_int))\n",
    "print(sin(x))"
   ]
  },
  {
   "cell_type": "code",
   "execution_count": 35,
   "metadata": {},
   "outputs": [
    {
     "ename": "Exception",
     "evalue": "input greater than 10",
     "output_type": "error",
     "traceback": [
      "\u001b[0;31m---------------------------------------------------------------------------\u001b[0m",
      "\u001b[0;31mException\u001b[0m                                 Traceback (most recent call last)",
      "\u001b[0;32m/var/folders/yk/k5d_7hg57nx8x0bm9kq7myl80000gn/T/ipykernel_4478/2526145104.py\u001b[0m in \u001b[0;36m<module>\u001b[0;34m\u001b[0m\n\u001b[1;32m      1\u001b[0m \u001b[0ma\u001b[0m \u001b[0;34m=\u001b[0m \u001b[0mint\u001b[0m\u001b[0;34m(\u001b[0m\u001b[0minput\u001b[0m\u001b[0;34m(\u001b[0m\u001b[0;34m'enter an integer less than 10'\u001b[0m\u001b[0;34m)\u001b[0m\u001b[0;34m)\u001b[0m\u001b[0;34m\u001b[0m\u001b[0;34m\u001b[0m\u001b[0m\n\u001b[1;32m      2\u001b[0m \u001b[0;32mif\u001b[0m \u001b[0ma\u001b[0m \u001b[0;34m>\u001b[0m \u001b[0;36m10\u001b[0m\u001b[0;34m:\u001b[0m\u001b[0;34m\u001b[0m\u001b[0;34m\u001b[0m\u001b[0m\n\u001b[0;32m----> 3\u001b[0;31m     \u001b[0;32mraise\u001b[0m \u001b[0mException\u001b[0m\u001b[0;34m(\u001b[0m\u001b[0;34m'input greater than 10'\u001b[0m\u001b[0;34m)\u001b[0m\u001b[0;34m\u001b[0m\u001b[0;34m\u001b[0m\u001b[0m\n\u001b[0m\u001b[1;32m      4\u001b[0m \u001b[0;32melse\u001b[0m\u001b[0;34m:\u001b[0m\u001b[0;34m\u001b[0m\u001b[0;34m\u001b[0m\u001b[0m\n\u001b[1;32m      5\u001b[0m     \u001b[0mprint\u001b[0m\u001b[0;34m(\u001b[0m\u001b[0;34m'valid'\u001b[0m\u001b[0;34m)\u001b[0m\u001b[0;34m\u001b[0m\u001b[0;34m\u001b[0m\u001b[0m\n",
      "\u001b[0;31mException\u001b[0m: input greater than 10"
     ]
    }
   ],
   "source": [
    "a = int(input('enter an integer less than 10'))\n",
    "if a > 10:\n",
    "    raise Exception('input greater than 10')\n",
    "else:\n",
    "    print('valid')"
   ]
  },
  {
   "cell_type": "code",
   "execution_count": null,
   "metadata": {},
   "outputs": [],
   "source": []
  },
  {
   "cell_type": "code",
   "execution_count": null,
   "metadata": {},
   "outputs": [],
   "source": []
  }
 ],
 "metadata": {
  "kernelspec": {
   "display_name": "base",
   "language": "python",
   "name": "python3"
  },
  "language_info": {
   "codemirror_mode": {
    "name": "ipython",
    "version": 3
   },
   "file_extension": ".py",
   "mimetype": "text/x-python",
   "name": "python",
   "nbconvert_exporter": "python",
   "pygments_lexer": "ipython3",
   "version": "3.9.13"
  },
  "orig_nbformat": 4,
  "vscode": {
   "interpreter": {
    "hash": "64d091fd920de13a5a564622279efe4328d829c3c6232ad693addbb2f159d972"
   }
  }
 },
 "nbformat": 4,
 "nbformat_minor": 2
}
