{
 "cells": [
  {
   "cell_type": "markdown",
   "metadata": {},
   "source": [
    "Andres Mejia\n",
    "\n",
    "Engr 114 winter 23"
   ]
  },
  {
   "cell_type": "code",
   "execution_count": 14,
   "metadata": {},
   "outputs": [],
   "source": [
    "from math import factorial, exp, sin, radians\n",
    "from taylor_exp import taylor_exp_e, taylor_exp_sin"
   ]
  },
  {
   "cell_type": "code",
   "execution_count": 33,
   "metadata": {},
   "outputs": [
    {
     "name": "stdout",
     "output_type": "stream",
     "text": [
      "'2.0' chosen for x\n",
      "'10' chosen for n\n",
      "e^x chosen\n",
      "7.3887125220458545 , taylor series for e^x\n",
      "7.38905609893065 (exp function)\n"
     ]
    }
   ],
   "source": [
    "x_inp = input('enter a value for x less than 50')\n",
    "try:\n",
    "    x = float(x_inp)\n",
    "    print(f'\\'{x}\\' chosen for x')\n",
    "\n",
    "    if x > 50:\n",
    "        print('x cannot be greater than 50')\n",
    "        \n",
    "    else:\n",
    "        n_inp = input('enter an integer for n (the amount of expansions wanted)')\n",
    "        try:\n",
    "            n = int(n_inp)\n",
    "            print(f'\\'{n}\\' chosen for n')\n",
    "\n",
    "            func_choice = input('enter e or sin for choice of taylor function')\n",
    "            if func_choice == 'e':\n",
    "                print('e^x chosen')\n",
    "                print(taylor_exp_e(x,n), ', taylor series for e^x')\n",
    "                print(exp(x), '(exp function)')\n",
    "            elif func_choice == 'sin':\n",
    "                print('sin(x) chosen')\n",
    "                #x = radians(x)\n",
    "                print(taylor_exp_sin(x,n), ', taylor series for sin(x)')\n",
    "                print(sin(x), '(sin function)')\n",
    "            else:\n",
    "                    print(f'\\'{func_choice} not a valid choice for e or sin')     \n",
    "        except:\n",
    "            print(f'\\'{n_inp}\\' not an integer')\n",
    "except:\n",
    "    print(f'\\'{x_inp}\\' invalid input')\n"
   ]
  },
  {
   "cell_type": "code",
   "execution_count": 29,
   "metadata": {},
   "outputs": [
    {
     "name": "stdout",
     "output_type": "stream",
     "text": [
      "1.6880917945164304\n",
      "0.49999999999999994\n"
     ]
    }
   ],
   "source": [
    "# sin function test\n",
    "print(taylor_exp_e(radians(30),10))\n",
    "print(sin(radians(30)))"
   ]
  },
  {
   "cell_type": "code",
   "execution_count": 34,
   "metadata": {},
   "outputs": [
    {
     "name": "stdout",
     "output_type": "stream",
     "text": [
      "2.4582562777354316e-26\n",
      "0.49999999999999994\n"
     ]
    }
   ],
   "source": [
    "# sin code function test\n",
    "x = radians(30)\n",
    "n_int = 10\n",
    "\n",
    "\n",
    "\n",
    "def taylor_exp_sin(x,n):\n",
    "    approx = 0\n",
    "    for i in range(n):\n",
    "        term = ((-1)** n) * (x**(2* n + 1)/(factorial(2* n + 1)))\n",
    "        approx = approx + term\n",
    "        return approx\n",
    "    \n",
    "print(taylor_exp_sin(x,n))\n",
    "print(sin(x))"
   ]
  },
  {
   "cell_type": "code",
   "execution_count": null,
   "metadata": {},
   "outputs": [],
   "source": []
  }
 ],
 "metadata": {
  "kernelspec": {
   "display_name": "base",
   "language": "python",
   "name": "python3"
  },
  "language_info": {
   "codemirror_mode": {
    "name": "ipython",
    "version": 3
   },
   "file_extension": ".py",
   "mimetype": "text/x-python",
   "name": "python",
   "nbconvert_exporter": "python",
   "pygments_lexer": "ipython3",
   "version": "3.9.13"
  },
  "orig_nbformat": 4,
  "vscode": {
   "interpreter": {
    "hash": "64d091fd920de13a5a564622279efe4328d829c3c6232ad693addbb2f159d972"
   }
  }
 },
 "nbformat": 4,
 "nbformat_minor": 2
}
