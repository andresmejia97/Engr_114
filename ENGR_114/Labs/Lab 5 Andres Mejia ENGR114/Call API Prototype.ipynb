{
 "cells": [
  {
   "cell_type": "code",
   "execution_count": 1,
   "id": "9d99787d-0b2f-4b24-aee1-e2f670d8d1ea",
   "metadata": {},
   "outputs": [],
   "source": [
    "import pandas as pd"
   ]
  },
  {
   "cell_type": "code",
   "execution_count": 22,
   "id": "ca317557-c0c1-431a-9da1-230d835a0b8a",
   "metadata": {},
   "outputs": [],
   "source": [
    "# 3 = humidity, 4 = temperature, 5 = rainfall, 6 = pressure\n",
    "def call_API(w_type, n_data_pts):\n",
    "    d = {'humidity':'3', 'temperature':'4', 'rainfall':'5', 'pressure':'6'}\n",
    "    \n",
    "    fields_n = d[w_type]\n",
    "\n",
    "    url = f'https://api.thingspeak.com/channels/12397/fields/{fields_n}.csv?results={n_data_pts}'\n",
    "    df = pd.read_csv(url)\n",
    "    \n",
    "    return df"
   ]
  },
  {
   "cell_type": "code",
   "execution_count": 23,
   "id": "741e367a-8842-4433-ba3f-2e7d5987fa1c",
   "metadata": {},
   "outputs": [
    {
     "data": {
      "text/html": [
       "<div>\n",
       "<style scoped>\n",
       "    .dataframe tbody tr th:only-of-type {\n",
       "        vertical-align: middle;\n",
       "    }\n",
       "\n",
       "    .dataframe tbody tr th {\n",
       "        vertical-align: top;\n",
       "    }\n",
       "\n",
       "    .dataframe thead th {\n",
       "        text-align: right;\n",
       "    }\n",
       "</style>\n",
       "<table border=\"1\" class=\"dataframe\">\n",
       "  <thead>\n",
       "    <tr style=\"text-align: right;\">\n",
       "      <th></th>\n",
       "      <th>created_at</th>\n",
       "      <th>entry_id</th>\n",
       "      <th>field5</th>\n",
       "    </tr>\n",
       "  </thead>\n",
       "  <tbody>\n",
       "    <tr>\n",
       "      <th>0</th>\n",
       "      <td>2023-02-15 18:43:28 UTC</td>\n",
       "      <td>4281371</td>\n",
       "      <td>0</td>\n",
       "    </tr>\n",
       "    <tr>\n",
       "      <th>1</th>\n",
       "      <td>2023-02-15 18:44:28 UTC</td>\n",
       "      <td>4281372</td>\n",
       "      <td>0</td>\n",
       "    </tr>\n",
       "  </tbody>\n",
       "</table>\n",
       "</div>"
      ],
      "text/plain": [
       "                created_at  entry_id  field5\n",
       "0  2023-02-15 18:43:28 UTC   4281371       0\n",
       "1  2023-02-15 18:44:28 UTC   4281372       0"
      ]
     },
     "execution_count": 23,
     "metadata": {},
     "output_type": "execute_result"
    }
   ],
   "source": [
    "call_API('rainfall','2')"
   ]
  },
  {
   "cell_type": "code",
   "execution_count": null,
   "id": "add86140-a792-4381-ba49-8eb92ec7cad1",
   "metadata": {},
   "outputs": [],
   "source": []
  }
 ],
 "metadata": {
  "kernelspec": {
   "display_name": "base",
   "language": "python",
   "name": "python3"
  },
  "language_info": {
   "codemirror_mode": {
    "name": "ipython",
    "version": 3
   },
   "file_extension": ".py",
   "mimetype": "text/x-python",
   "name": "python",
   "nbconvert_exporter": "python",
   "pygments_lexer": "ipython3",
   "version": "3.9.13"
  },
  "vscode": {
   "interpreter": {
    "hash": "64d091fd920de13a5a564622279efe4328d829c3c6232ad693addbb2f159d972"
   }
  }
 },
 "nbformat": 4,
 "nbformat_minor": 5
}
