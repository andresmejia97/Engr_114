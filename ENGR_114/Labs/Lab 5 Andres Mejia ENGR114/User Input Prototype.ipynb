{
 "cells": [
  {
   "cell_type": "code",
   "execution_count": 7,
   "id": "14de482f-a2fa-42c8-a8e2-7df4c24279f0",
   "metadata": {},
   "outputs": [],
   "source": [
    "def user_input():\n",
    "    w_type = input('Which weather type (temperature, humidity, rainfall, or pressure) ?')\n",
    "    print('the users input is: ', w_type)\n",
    "    \n",
    "    n_data_pts = input('how many data points (maximum 8000) ?')\n",
    "    print('the users input is: ', n_data_pts)\n",
    "    return [w_type, n_data_pts]\n"
   ]
  },
  {
   "cell_type": "code",
   "execution_count": 10,
   "id": "406c1ff1-9025-49c1-a140-223fa9af39c9",
   "metadata": {},
   "outputs": [
    {
     "name": "stdin",
     "output_type": "stream",
     "text": [
      "Which weather type (temperature, humidity, rainfall, or pressure) ? temperature\n"
     ]
    },
    {
     "name": "stdout",
     "output_type": "stream",
     "text": [
      "the users input is:  temperature\n"
     ]
    },
    {
     "name": "stdin",
     "output_type": "stream",
     "text": [
      "how many data points (maximum 8000) ? 5\n"
     ]
    },
    {
     "name": "stdout",
     "output_type": "stream",
     "text": [
      "the users input is:  5\n",
      "temperature\n",
      "5\n"
     ]
    }
   ],
   "source": [
    "[w_type, n_data_pts] = user_input()\n",
    "\n",
    "print(w_type)\n",
    "print(n_data_pts)"
   ]
  },
  {
   "cell_type": "code",
   "execution_count": null,
   "id": "1d30bff2-7190-42d0-ad23-a2d1f45e8894",
   "metadata": {},
   "outputs": [],
   "source": []
  }
 ],
 "metadata": {
  "kernelspec": {
   "display_name": "Python 3 (ipykernel)",
   "language": "python",
   "name": "python3"
  },
  "language_info": {
   "codemirror_mode": {
    "name": "ipython",
    "version": 3
   },
   "file_extension": ".py",
   "mimetype": "text/x-python",
   "name": "python",
   "nbconvert_exporter": "python",
   "pygments_lexer": "ipython3",
   "version": "3.9.13"
  }
 },
 "nbformat": 4,
 "nbformat_minor": 5
}
