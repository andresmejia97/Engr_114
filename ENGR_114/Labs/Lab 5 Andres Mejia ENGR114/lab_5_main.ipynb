{
 "cells": [
  {
   "cell_type": "markdown",
   "id": "d298e63e-15b2-4764-8ea7-0187f88fdca4",
   "metadata": {},
   "source": [
    "Andres Mejia\n",
    "\n",
    "Engr 114 winter 2023\n",
    "\n",
    "2/15/23"
   ]
  },
  {
   "cell_type": "markdown",
   "id": "1ae96f03-8a3b-4102-a5e0-937c05aa17fd",
   "metadata": {},
   "source": [
    "# Test"
   ]
  },
  {
   "cell_type": "code",
   "execution_count": 1,
   "id": "1713de42-09a6-489a-8595-7f6528175e41",
   "metadata": {},
   "outputs": [],
   "source": [
    "import numpy as np\n",
    "import pandas as pd\n",
    "import matplotlib.pyplot as plt"
   ]
  },
  {
   "cell_type": "code",
   "execution_count": 2,
   "id": "3aa322c8-c0c9-4e00-a7ab-163a3c5d2f30",
   "metadata": {},
   "outputs": [
    {
     "name": "stdout",
     "output_type": "stream",
     "text": [
      "Call API Prototype.ipynb    clean_data_proto.ipynb\n",
      "User Input Prototype.ipynb  lab_5_main.ipynb\n",
      "\u001b[34m__pycache__\u001b[m\u001b[m/                plot data prototype.ipynb\n",
      "call_API.py                 plot_data.py\n",
      "clean_data.py               user_input.py\n"
     ]
    }
   ],
   "source": [
    "%ls"
   ]
  },
  {
   "cell_type": "code",
   "execution_count": 3,
   "id": "ac4c3a01-919b-4633-9fbd-40f979ccd774",
   "metadata": {},
   "outputs": [],
   "source": [
    "# imports\n",
    "from user_input import user_input\n",
    "from call_API import call_API\n",
    "from clean_data import clean_data\n",
    "from plot_data import plot_data"
   ]
  },
  {
   "cell_type": "raw",
   "id": "0d4f631c-8274-4bc5-af25-82ea9b291e3f",
   "metadata": {},
   "source": [
    "# wd = np.array(df)\n",
    "# wd["
   ]
  },
  {
   "cell_type": "code",
   "execution_count": 4,
   "id": "8bcc5518-be87-4141-ba1c-da71a6c70927",
   "metadata": {},
   "outputs": [
    {
     "name": "stdin",
     "output_type": "stream",
     "text": [
      "Which weather type (temperature, humidity, rainfall, or pressure) ? rainfall\n"
     ]
    },
    {
     "name": "stdout",
     "output_type": "stream",
     "text": [
      "the users input is:  rainfall\n"
     ]
    },
    {
     "name": "stdin",
     "output_type": "stream",
     "text": [
      "how many data points (maximum 8000) ? 500\n"
     ]
    },
    {
     "name": "stdout",
     "output_type": "stream",
     "text": [
      "the users input is:  500\n"
     ]
    },
    {
     "data": {
      "image/png": "[encoded data removed]",
      "text/plain": [
       "<Figure size 640x480 with 1 Axes>"
      ]
     },
     "metadata": {},
     "output_type": "display_data"
    }
   ],
   "source": [
    "# run the functions\n",
    "[w_type, n_data_pts] = user_input()\n",
    "\n",
    "df = call_API(w_type, n_data_pts)\n",
    "\n",
    "wd = clean_data(df)\n",
    "# wd = [1,2]\n",
    "plot_data(wd, w_type)"
   ]
  },
  {
   "cell_type": "code",
   "execution_count": 5,
   "id": "225450c9-d17b-44ea-bc7b-947f44fb35f4",
   "metadata": {},
   "outputs": [
    {
     "name": "stdout",
     "output_type": "stream",
     "text": [
      "                  created_at  entry_id  field5\n",
      "0    2023-02-22 11:01:12 UTC   4290988       0\n",
      "1    2023-02-22 11:02:12 UTC   4290989       0\n",
      "2    2023-02-22 11:03:12 UTC   4290990       0\n",
      "3    2023-02-22 11:04:12 UTC   4290991       0\n",
      "4    2023-02-22 11:05:12 UTC   4290992       0\n",
      "..                       ...       ...     ...\n",
      "495  2023-02-22 19:16:14 UTC   4291483       0\n",
      "496  2023-02-22 19:17:14 UTC   4291484       0\n",
      "497  2023-02-22 19:18:14 UTC   4291485       0\n",
      "498  2023-02-22 19:19:14 UTC   4291486       0\n",
      "499  2023-02-22 19:20:14 UTC   4291487       0\n",
      "\n",
      "[500 rows x 3 columns]\n"
     ]
    }
   ],
   "source": [
    "print(df)"
   ]
  },
  {
   "cell_type": "code",
   "execution_count": 6,
   "id": "6c5a313b-d01b-4abb-8b64-f54fb66702a1",
   "metadata": {},
   "outputs": [
    {
     "data": {
      "text/plain": [
       "array([0, 0, 0, 0, 0, 0, 0, 0, 0, 0, 0, 0, 0, 0, 0, 0, 0, 0, 0, 0, 0, 0,\n",
       "       0, 0, 0, 0, 0, 0, 0, 0, 0, 0, 0, 0, 0, 0, 0, 0, 0, 0, 0, 0, 0, 0,\n",
       "       0, 0, 0, 0, 0, 0, 0, 0, 0, 0, 0, 0, 0, 0, 0, 0, 0, 0, 0, 0, 0, 0,\n",
       "       0, 0, 0, 0, 0, 0, 0, 0, 0, 0, 0, 0, 0, 0, 0, 0, 0, 0, 0, 0, 0, 0,\n",
       "       0, 0, 0, 0, 0, 0, 0, 0, 0, 0, 0, 0, 0, 0, 0, 0, 0, 0, 0, 0, 0, 0,\n",
       "       0, 0, 0, 0, 0, 0, 0, 0, 0, 0, 0, 0, 0, 0, 0, 0, 0, 0, 0, 0, 0, 0,\n",
       "       0, 0, 0, 0, 0, 0, 0, 0, 0, 0, 0, 0, 0, 0, 0, 0, 0, 0, 0, 0, 0, 0,\n",
       "       0, 0, 0, 0, 0, 0, 0, 0, 0, 0, 0, 0, 0, 0, 0, 0, 0, 0, 0, 0, 0, 0,\n",
       "       0, 0, 0, 0, 0, 0, 0, 0, 0, 0, 0, 0, 0, 0, 0, 0, 0, 0, 0, 0, 0, 0,\n",
       "       0, 0, 0, 0, 0, 0, 0, 0, 0, 0, 0, 0, 0, 0, 0, 0, 0, 0, 0, 0, 0, 0,\n",
       "       0, 0, 0, 0, 0, 0, 0, 0, 0, 0, 0, 0, 0, 0, 0, 0, 0, 0, 0, 0, 0, 0,\n",
       "       0, 0, 0, 0, 0, 0, 0, 0, 0, 0, 0, 0, 0, 0, 0, 0, 0, 0, 0, 0, 0, 0,\n",
       "       0, 0, 0, 0, 0, 0, 0, 0, 0, 0, 0, 0, 0, 0, 0, 0, 0, 0, 0, 0, 0, 0,\n",
       "       0, 0, 0, 0, 0, 0, 0, 0, 0, 0, 0, 0, 0, 0, 0, 0, 0, 0, 0, 0, 0, 0,\n",
       "       0, 0, 0, 0, 0, 0, 0, 0, 0, 0, 0, 0, 0, 0, 0, 0, 0, 0, 0, 0, 0, 0,\n",
       "       0, 0, 0, 0, 0, 0, 0, 0, 0, 0, 0, 0, 0, 0, 0, 0, 0, 0, 0, 0, 0, 0,\n",
       "       0, 0, 0, 0, 0, 0, 0, 0, 0, 0, 0, 0, 0, 0, 0, 0, 0, 0, 0, 0, 0, 0,\n",
       "       0, 0, 0, 0, 0, 0, 0, 0, 0, 0, 0, 0, 0, 0, 0, 0, 0, 0, 0, 0, 0, 0,\n",
       "       0, 0, 0, 0, 0, 0, 0, 0, 0, 0, 0, 0, 0, 0, 0, 0, 0, 0, 0, 0, 0, 0,\n",
       "       0, 0, 0, 0, 0, 0, 0, 0, 0, 0, 0, 0, 0, 0, 0, 0, 0, 0, 0, 0, 0, 0,\n",
       "       0, 0, 0, 0, 0, 0, 0, 0, 0, 0, 0, 0, 0, 0, 0, 0, 0, 0, 0, 0, 0, 0,\n",
       "       0, 0, 0, 0, 0, 0, 0, 0, 0, 0, 0, 0, 0, 0, 0, 0, 0, 0, 0, 0, 0, 0,\n",
       "       0, 0, 0, 0, 0, 0, 0, 0, 0, 0, 0, 0, 0, 0, 0, 0], dtype=object)"
      ]
     },
     "execution_count": 6,
     "metadata": {},
     "output_type": "execute_result"
    }
   ],
   "source": [
    "wd"
   ]
  },
  {
   "cell_type": "code",
   "execution_count": 7,
   "id": "d8308275-daff-4f5e-b4e9-44ba485085ed",
   "metadata": {},
   "outputs": [
    {
     "data": {
      "text/plain": [
       "500"
      ]
     },
     "execution_count": 7,
     "metadata": {},
     "output_type": "execute_result"
    }
   ],
   "source": [
    "df_ar = np.array(df)\n",
    "df_ar1 = df_ar[:,2]\n",
    "df_ar1\n",
    "type(df_ar1)\n",
    "len(df_ar1)"
   ]
  },
  {
   "cell_type": "code",
   "execution_count": null,
   "id": "5b084e3a-719a-435a-ad4a-727fa7fbcbf0",
   "metadata": {},
   "outputs": [],
   "source": []
  }
 ],
 "metadata": {
  "kernelspec": {
   "display_name": "Python 3 (ipykernel)",
   "language": "python",
   "name": "python3"
  },
  "language_info": {
   "codemirror_mode": {
    "name": "ipython",
    "version": 3
   },
   "file_extension": ".py",
   "mimetype": "text/x-python",
   "name": "python",
   "nbconvert_exporter": "python",
   "pygments_lexer": "ipython3",
   "version": "3.9.13"
  }
 },
 "nbformat": 4,
 "nbformat_minor": 5
}
