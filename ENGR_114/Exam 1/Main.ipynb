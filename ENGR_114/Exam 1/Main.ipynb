{
 "cells": [
  {
   "cell_type": "code",
   "execution_count": null,
   "id": "c55318b9",
   "metadata": {},
   "outputs": [],
   "source": [
    "# test cell"
   ]
  },
  {
   "cell_type": "markdown",
   "id": "0ae6a03a-86d3-4c29-9052-69f28aa30377",
   "metadata": {},
   "source": [
    "Andres Mejia\n",
    "\n",
    "ENGR 114 Winter 2023\n",
    "\n",
    "Exam 1"
   ]
  },
  {
   "cell_type": "code",
   "execution_count": 1,
   "id": "4c745fea-09ab-4628-9320-e0b0b9a4c490",
   "metadata": {},
   "outputs": [],
   "source": [
    "# imports\n",
    "import numpy as np\n",
    "import pandas as pd\n",
    "import matplotlib.pyplot as plt\n",
    "%matplotlib inline"
   ]
  },
  {
   "cell_type": "code",
   "execution_count": 2,
   "id": "2ac81e76-335f-4a22-aca7-485f761c9aa4",
   "metadata": {},
   "outputs": [
    {
     "data": {
      "text/html": [
       "<div>\n",
       "<style scoped>\n",
       "    .dataframe tbody tr th:only-of-type {\n",
       "        vertical-align: middle;\n",
       "    }\n",
       "\n",
       "    .dataframe tbody tr th {\n",
       "        vertical-align: top;\n",
       "    }\n",
       "\n",
       "    .dataframe thead th {\n",
       "        text-align: right;\n",
       "    }\n",
       "</style>\n",
       "<table border=\"1\" class=\"dataframe\">\n",
       "  <thead>\n",
       "    <tr style=\"text-align: right;\">\n",
       "      <th></th>\n",
       "      <th>Run #1</th>\n",
       "      <th>Run #1.1</th>\n",
       "      <th>Run #1.2</th>\n",
       "      <th>Run #1.3</th>\n",
       "    </tr>\n",
       "  </thead>\n",
       "  <tbody>\n",
       "    <tr>\n",
       "      <th>0</th>\n",
       "      <td>Time (s)</td>\n",
       "      <td>Position (m)</td>\n",
       "      <td>Force (N)</td>\n",
       "      <td>Speed (mm/min)</td>\n",
       "    </tr>\n",
       "    <tr>\n",
       "      <th>1</th>\n",
       "      <td>0</td>\n",
       "      <td>0</td>\n",
       "      <td>0</td>\n",
       "      <td>NaN</td>\n",
       "    </tr>\n",
       "    <tr>\n",
       "      <th>2</th>\n",
       "      <td>0.2</td>\n",
       "      <td>0</td>\n",
       "      <td>0</td>\n",
       "      <td>0</td>\n",
       "    </tr>\n",
       "    <tr>\n",
       "      <th>3</th>\n",
       "      <td>0.4</td>\n",
       "      <td>0</td>\n",
       "      <td>0</td>\n",
       "      <td>0</td>\n",
       "    </tr>\n",
       "    <tr>\n",
       "      <th>4</th>\n",
       "      <td>0.6</td>\n",
       "      <td>0</td>\n",
       "      <td>0</td>\n",
       "      <td>0</td>\n",
       "    </tr>\n",
       "  </tbody>\n",
       "</table>\n",
       "</div>"
      ],
      "text/plain": [
       "     Run #1      Run #1.1   Run #1.2        Run #1.3\n",
       "0  Time (s)  Position (m)  Force (N)  Speed (mm/min)\n",
       "1         0             0          0             NaN\n",
       "2       0.2             0          0               0\n",
       "3       0.4             0          0               0\n",
       "4       0.6             0          0               0"
      ]
     },
     "execution_count": 2,
     "metadata": {},
     "output_type": "execute_result"
    }
   ],
   "source": [
    "# get file and check contents\n",
    "df = pd.read_csv('HIPS.csv')\n",
    "df.head()"
   ]
  },
  {
   "cell_type": "code",
   "execution_count": 3,
   "id": "8cf44c9e-e93c-44a1-8d25-ef66ba9e9105",
   "metadata": {},
   "outputs": [],
   "source": [
    "# convert to array\n",
    "rd = np.array(df)"
   ]
  },
  {
   "cell_type": "code",
   "execution_count": 4,
   "id": "1228a40f-c563-48a9-9d47-9c28e754a586",
   "metadata": {},
   "outputs": [],
   "source": [
    "# # create variables for each column and set values to floats instead of strings\n",
    "# # so can use functions on them\n",
    "\n",
    "# time1 = np.array([rd[1:,0]])\n",
    "# time = time1.astype(float)\n",
    "\n",
    "# pos1 = np.array([rd[1:,1]])\n",
    "# pos = pos1.astype(float)\n",
    "\n",
    "# force1 = np.array([rd[1:,2]])\n",
    "# force = force1.astype(float)\n",
    "\n",
    "# speed1 = np.array([rd[2:,3]])\n",
    "# speed = speed1.astype(float)\n",
    "\n"
   ]
  },
  {
   "cell_type": "code",
   "execution_count": 5,
   "id": "86800817-b12a-4c6f-bb78-37a8b2bfd5bd",
   "metadata": {},
   "outputs": [],
   "source": [
    "# I think this is the best way to just make them floats\n",
    "# right off the bat since the rest of my calculations \n",
    "# ended up being much more simple once I did this\n",
    "time = np.array(rd[1:,0],float)\n",
    "\n",
    "pos = np.array(rd[1:,1],float) \n",
    "\n",
    "force = np.array(rd[1:,2],float) \n",
    "\n",
    "speed = np.array(rd[2:,3],float)"
   ]
  },
  {
   "cell_type": "markdown",
   "id": "6ae52afd-f20c-4f72-9f98-242c1255879e",
   "metadata": {},
   "source": [
    "# Calculations"
   ]
  },
  {
   "cell_type": "code",
   "execution_count": 6,
   "id": "f79251eb-1e45-4e65-8e70-c62523086d94",
   "metadata": {},
   "outputs": [
    {
     "name": "stdout",
     "output_type": "stream",
     "text": [
      "The max force exerted in the tensile test was 133.0 N \n",
      "\n",
      "The force at fracture is 132.0 N \n",
      "\n",
      "The final position was  0.02328m which was also the displacement (max = 0.02328) \n",
      "since the starting postion was 0.0\n"
     ]
    }
   ],
   "source": [
    "print(f'The max force exerted in the tensile test was {np.max(force[:])} N \\n')\n",
    "\n",
    "print('The force at fracture is', force[-1], 'N \\n')\n",
    "      \n",
    "print(f'The final position was  {pos[-1]}m which was also the displacement (max = {np.max(pos)}) \\n'\n",
    "      f'since the starting postion was {pos[0]}') \n",
    "\n",
    "# i had to make two strings to be able to go to the next line\n",
    "# not sure why. I just wanted it to be shorter"
   ]
  },
  {
   "cell_type": "code",
   "execution_count": 19,
   "id": "f36586fc-8114-4a2e-bf2f-2fc3260e8e23",
   "metadata": {},
   "outputs": [
    {
     "data": {
      "image/png": "[encoded data removed]",
      "text/plain": [
       "<Figure size 700x700 with 1 Axes>"
      ]
     },
     "metadata": {},
     "output_type": "display_data"
    }
   ],
   "source": [
    "# graph force vs position\n",
    "# force is on x axis because it is our input\n",
    "\n",
    "x = force\n",
    "y = pos\n",
    "fig, ax = plt.subplots(figsize=(7,7))\n",
    "ax.plot(x,y,'b')\n",
    "\n",
    "ax.grid(True)\n",
    "ax.set_title('Force vs Position',fontsize=20)\n",
    "ax.set_xlim(0,140)\n",
    "ax.set_ylim(0,0.025)\n",
    "ax.set_xlabel('Force (N)')\n",
    "ax.set_ylabel('Position (m)')\n",
    "\n",
    "plt.show()"
   ]
  },
  {
   "cell_type": "code",
   "execution_count": null,
   "id": "6e6134ed-4a06-47c9-b5f2-7c983d157440",
   "metadata": {},
   "outputs": [],
   "source": []
  }
 ],
 "metadata": {
  "kernelspec": {
   "display_name": "Python 3 (ipykernel)",
   "language": "python",
   "name": "python3"
  },
  "language_info": {
   "codemirror_mode": {
    "name": "ipython",
    "version": 3
   },
   "file_extension": ".py",
   "mimetype": "text/x-python",
   "name": "python",
   "nbconvert_exporter": "python",
   "pygments_lexer": "ipython3",
   "version": "3.9.13"
  }
 },
 "nbformat": 4,
 "nbformat_minor": 5
}
