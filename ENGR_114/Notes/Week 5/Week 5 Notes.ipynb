{
 "cells": [
  {
   "cell_type": "markdown",
   "id": "a618ba1e",
   "metadata": {},
   "source": [
    "Andres Mejia\n",
    "\n",
    "Engr 114\n",
    "\n",
    "Week 5 Notes"
   ]
  },
  {
   "cell_type": "code",
   "execution_count": 1,
   "id": "a37c2bdb",
   "metadata": {},
   "outputs": [],
   "source": [
    "# use grade.csv to make bar chart, 3 stat calculations, and print\n",
    "# use stressstrain.xlsx to make line plot, 3 calculations, and print\n",
    "\n",
    "import numpy as np\n",
    "import pandas as pd\n",
    "import matplotlib.pyplot as plt\n",
    "%matplotlib inline"
   ]
  },
  {
   "cell_type": "markdown",
   "id": "9d0cd18a",
   "metadata": {},
   "source": [
    "# Grade Data Manipulation"
   ]
  },
  {
   "cell_type": "code",
   "execution_count": 2,
   "id": "bc0a085d",
   "metadata": {},
   "outputs": [
    {
     "data": {
      "text/html": [
       "<div>\n",
       "<style scoped>\n",
       "    .dataframe tbody tr th:only-of-type {\n",
       "        vertical-align: middle;\n",
       "    }\n",
       "\n",
       "    .dataframe tbody tr th {\n",
       "        vertical-align: top;\n",
       "    }\n",
       "\n",
       "    .dataframe thead th {\n",
       "        text-align: right;\n",
       "    }\n",
       "</style>\n",
       "<table border=\"1\" class=\"dataframe\">\n",
       "  <thead>\n",
       "    <tr style=\"text-align: right;\">\n",
       "      <th></th>\n",
       "      <th>85</th>\n",
       "    </tr>\n",
       "  </thead>\n",
       "  <tbody>\n",
       "    <tr>\n",
       "      <th>0</th>\n",
       "      <td>79</td>\n",
       "    </tr>\n",
       "    <tr>\n",
       "      <th>1</th>\n",
       "      <td>86</td>\n",
       "    </tr>\n",
       "    <tr>\n",
       "      <th>2</th>\n",
       "      <td>82</td>\n",
       "    </tr>\n",
       "    <tr>\n",
       "      <th>3</th>\n",
       "      <td>73</td>\n",
       "    </tr>\n",
       "    <tr>\n",
       "      <th>4</th>\n",
       "      <td>89</td>\n",
       "    </tr>\n",
       "  </tbody>\n",
       "</table>\n",
       "</div>"
      ],
      "text/plain": [
       "   85\n",
       "0  79\n",
       "1  86\n",
       "2  82\n",
       "3  73\n",
       "4  89"
      ]
     },
     "execution_count": 2,
     "metadata": {},
     "output_type": "execute_result"
    }
   ],
   "source": [
    "df = pd.read_csv('grade_data.csv')\n",
    "df.head()"
   ]
  },
  {
   "cell_type": "code",
   "execution_count": 3,
   "id": "71ee5267",
   "metadata": {},
   "outputs": [],
   "source": [
    "## convert dataframe into numpy array\n",
    "gd = np.array(df)"
   ]
  },
  {
   "cell_type": "code",
   "execution_count": 4,
   "id": "7e8664d9",
   "metadata": {},
   "outputs": [
    {
     "name": "stdout",
     "output_type": "stream",
     "text": [
      "[94 93 94 91 91 94 97 99 90 91 91]\n",
      "[86 82 89 83 82 85 83 80 80 80 83 85 84 81 88 84 81 82 80 82 81 81 83 84\n",
      " 84 89 84 85 82 86 84 89 83 88 81 81 88 86 84 88 83 81 89 88 81 80]\n",
      "[79 73 73 77 74 77 75 72 79 79 79 72 79 77 79 71 73 75 77 78 77 72 75 78\n",
      " 79 76 79 71 76 73 70 75 76]\n",
      "[69 68 63 68 68 68 65 61]\n",
      "[57]\n"
     ]
    }
   ],
   "source": [
    "mask_a = gd>=90\n",
    "grades_a = gd[mask_a]\n",
    "\n",
    "mask_89 = gd<=89\n",
    "mask_80 = gd>=80\n",
    "mask_b = np.logical_and(mask_89,mask_80)\n",
    "grades_b = gd[mask_b]\n",
    "\n",
    "mask_79 = gd<=79\n",
    "mask_70 = gd>=70\n",
    "mask_c = np.logical_and(mask_79,mask_70)\n",
    "grades_c = gd[mask_c]\n",
    "\n",
    "mask_69 = gd<=69\n",
    "mask_60 = gd>=60\n",
    "mask_d = np.logical_and(mask_69,mask_60)\n",
    "grades_d = gd[mask_d]\n",
    "\n",
    "mask_f = gd<=59\n",
    "grades_f = gd[mask_f]\n",
    "\n",
    "print(grades_a)\n",
    "print(grades_b)\n",
    "print(grades_c)\n",
    "print(grades_d)\n",
    "print(grades_f)"
   ]
  },
  {
   "cell_type": "code",
   "execution_count": 5,
   "id": "723dd07d",
   "metadata": {},
   "outputs": [
    {
     "data": {
      "image/png": "[encoded data removed]",
      "text/plain": [
       "<Figure size 640x480 with 1 Axes>"
      ]
     },
     "metadata": {},
     "output_type": "display_data"
    }
   ],
   "source": [
    "locs = [0,1,2,3,4]\n",
    "bar_h = [len(grades_f), len(grades_d), len(grades_c), len(grades_b), len(grades_a)]\n",
    "bar_l = ['F', 'D', 'C', 'B', 'A']\n",
    "\n",
    "fig, ax = plt.subplots()\n",
    "\n",
    "ax.bar(locs, bar_h)\n",
    "\n",
    "ax.set_title('Bar Chart of Grades')\n",
    "ax.set_ylabel('Number of Grades')\n",
    "ax.set_xlabel('Grade Range')\n",
    "ax.set_xticks(locs)\n",
    "ax.set_xticklabels(bar_l)\n",
    "\n",
    "plt.show()"
   ]
  },
  {
   "cell_type": "code",
   "execution_count": 6,
   "id": "87b7d7cf",
   "metadata": {},
   "outputs": [
    {
     "name": "stdout",
     "output_type": "stream",
     "text": [
      "The average grade is 80.4\n",
      "The middle grade is 81.0\n",
      "The standard deviation is 7.78\n"
     ]
    }
   ],
   "source": [
    "g_avg = np.mean(gd)\n",
    "g_med = np.median(gd)\n",
    "g_std = np.std(gd)\n",
    "\n",
    "print(f'The average grade is {round(g_avg,2)}')\n",
    "print(f'The middle grade is {g_med}')\n",
    "print(f'The standard deviation is {round(g_std,2)}')"
   ]
  },
  {
   "cell_type": "markdown",
   "id": "c32141c5",
   "metadata": {},
   "source": [
    "# Stress Strain Manipulation"
   ]
  },
  {
   "cell_type": "code",
   "execution_count": 8,
   "id": "90397ca0",
   "metadata": {},
   "outputs": [],
   "source": [
    "df2 = pd.read_excel('stress-strain.xlsx')\n",
    "ss = np.array(df2)"
   ]
  },
  {
   "cell_type": "code",
   "execution_count": 10,
   "id": "fb220633",
   "metadata": {},
   "outputs": [],
   "source": [
    "stress = ss[:,1]\n",
    "strain = ss[:,2]"
   ]
  },
  {
   "cell_type": "code",
   "execution_count": 26,
   "id": "e2936187",
   "metadata": {},
   "outputs": [
    {
     "data": {
      "image/png": "[encoded data removed]",
      "text/plain": [
       "<Figure size 700x500 with 1 Axes>"
      ]
     },
     "metadata": {},
     "output_type": "display_data"
    }
   ],
   "source": [
    "fig, ax = plt.subplots(figsize=(7,5))\n",
    "ax.plot(strain,stress)\n",
    "ax.set_label('Stress-Strain Curve')\n",
    "ax.set_xlabel('Strain (%)')\n",
    "ax.set_ylabel('Stress (MPa)')\n",
    "ax.legend('stress-strain')  ## ask about legend size\n",
    "\n",
    "plt.show()"
   ]
  },
  {
   "cell_type": "code",
   "execution_count": 35,
   "id": "722f9a96",
   "metadata": {},
   "outputs": [
    {
     "name": "stdout",
     "output_type": "stream",
     "text": [
      "The max stress is 20979.5\n",
      "The fracture strenght is 17301.3\n",
      "The maximum extension is 24.13\n"
     ]
    }
   ],
   "source": [
    "ts = np.max(stress)\n",
    "fs = stress[-1]\n",
    "mx = strain[-1]\n",
    "\n",
    "print(f'The max stress is {round(ts,2)}')\n",
    "print(f'The fracture strenght is {round(fs,2)}')\n",
    "print(f'The maximum extension is {round(mx,2)}')"
   ]
  },
  {
   "cell_type": "code",
   "execution_count": null,
   "id": "c518202c",
   "metadata": {},
   "outputs": [],
   "source": []
  }
 ],
 "metadata": {
  "kernelspec": {
   "display_name": "Python 3 (ipykernel)",
   "language": "python",
   "name": "python3"
  },
  "language_info": {
   "codemirror_mode": {
    "name": "ipython",
    "version": 3
   },
   "file_extension": ".py",
   "mimetype": "text/x-python",
   "name": "python",
   "nbconvert_exporter": "python",
   "pygments_lexer": "ipython3",
   "version": "3.9.13"
  }
 },
 "nbformat": 4,
 "nbformat_minor": 5
}
