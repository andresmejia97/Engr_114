{
 "cells": [
  {
   "cell_type": "code",
   "execution_count": null,
   "id": "6f70c6ca",
   "metadata": {},
   "outputs": [],
   "source": []
  },
  {
   "cell_type": "markdown",
   "id": "29b13060",
   "metadata": {},
   "source": [
    "* array creation\n",
    "* array indexing and slicing\n",
    "* array masking\n",
    "* np.where() fucntion"
   ]
  },
  {
   "cell_type": "markdown",
   "id": "0d177bff",
   "metadata": {},
   "source": [
    "# Array Creation"
   ]
  },
  {
   "cell_type": "code",
   "execution_count": 1,
   "id": "25ea7a7d",
   "metadata": {},
   "outputs": [],
   "source": [
    "# before arrays can be created, Numpy needs to be imported\n",
    "import numpy as np"
   ]
  },
  {
   "cell_type": "code",
   "execution_count": 6,
   "id": "5b2dfe7d",
   "metadata": {},
   "outputs": [
    {
     "name": "stdout",
     "output_type": "stream",
     "text": [
      "[1 2 3] \n",
      "\n",
      "[[1 2]\n",
      " [3 4]]\n"
     ]
    }
   ],
   "source": [
    "a = np.array([1,2,3])\n",
    "b = np.array([[1,2],[3,4]])\n",
    "print(a,'\\n')\n",
    "print(b)"
   ]
  },
  {
   "cell_type": "code",
   "execution_count": 7,
   "id": "d521f7f8",
   "metadata": {},
   "outputs": [
    {
     "name": "stdout",
     "output_type": "stream",
     "text": [
      "[-5 -4 -3 -2 -1  0  1  2  3  4  5]\n"
     ]
    }
   ],
   "source": [
    "c = np.arange(-5,6,1)  # a range of numbers. start, stop, steps\n",
    "print(c)"
   ]
  },
  {
   "cell_type": "code",
   "execution_count": 8,
   "id": "c5a4a72a",
   "metadata": {},
   "outputs": [
    {
     "name": "stdout",
     "output_type": "stream",
     "text": [
      "[ 10   8   6   4   2   0  -2  -4  -6  -8 -10]\n"
     ]
    }
   ],
   "source": [
    "d = np.arange(10,-11,-2)\n",
    "print(d)"
   ]
  },
  {
   "cell_type": "code",
   "execution_count": 9,
   "id": "a1e884b1",
   "metadata": {},
   "outputs": [
    {
     "name": "stdout",
     "output_type": "stream",
     "text": [
      "[-3.         -2.33333333 -1.66666667 -1.         -0.33333333  0.33333333\n",
      "  1.          1.66666667  2.33333333  3.        ]\n"
     ]
    }
   ],
   "source": [
    "f = np.linspace(-3,3,10)     # creates a linear space of numbers\n",
    "print(f)"
   ]
  },
  {
   "cell_type": "code",
   "execution_count": 10,
   "id": "17d48041",
   "metadata": {},
   "outputs": [
    {
     "name": "stdout",
     "output_type": "stream",
     "text": [
      "[1.00000000e-03 1.58489319e-02 2.51188643e-01 3.98107171e+00\n",
      " 6.30957344e+01 1.00000000e+03]\n"
     ]
    }
   ],
   "source": [
    "g = np.logspace(-3,3,6)\n",
    "print(g)"
   ]
  },
  {
   "cell_type": "markdown",
   "id": "5d634c2e",
   "metadata": {},
   "source": [
    "# Indexing and Slicing"
   ]
  },
  {
   "cell_type": "code",
   "execution_count": 16,
   "id": "45ef3da4",
   "metadata": {},
   "outputs": [
    {
     "name": "stdout",
     "output_type": "stream",
     "text": [
      "[-3 -2 -1  0  1  2  3  4  5  6  7  8]\n",
      "(12,)\n",
      "\n",
      "(3, 4)\n",
      "[[-3 -2 -1  0]\n",
      " [ 1  2  3  4]\n",
      " [ 5  6  7  8]]\n"
     ]
    }
   ],
   "source": [
    "h = np.arange(-3,9,1)\n",
    "print(h)\n",
    "print(h.shape)\n",
    "h.shape = (3,4)    # set shape to 3 row 4 column\n",
    "print()\n",
    "\n",
    "print(h.shape)\n",
    "print(h)"
   ]
  },
  {
   "cell_type": "code",
   "execution_count": 18,
   "id": "55547e71",
   "metadata": {},
   "outputs": [
    {
     "name": "stdout",
     "output_type": "stream",
     "text": [
      "[-3 -2 -1  0]\n",
      "[5 6 7 8]\n"
     ]
    }
   ],
   "source": [
    "print(h[0]) #index first element, the first row\n",
    "print(h[-1]) # last row"
   ]
  },
  {
   "cell_type": "code",
   "execution_count": 20,
   "id": "479872f0",
   "metadata": {},
   "outputs": [
    {
     "name": "stdout",
     "output_type": "stream",
     "text": [
      "[-2  2  6]\n",
      "[6 7 8]\n"
     ]
    }
   ],
   "source": [
    "print(h[0:3,1])  # row 0-3(exclusive), column one\n",
    "print(h[-1,1:4]) # last row, column 1-4(exclusive)"
   ]
  },
  {
   "cell_type": "markdown",
   "id": "ff60bc17",
   "metadata": {},
   "source": [
    "# Masking"
   ]
  },
  {
   "cell_type": "code",
   "execution_count": 21,
   "id": "d4d048f6",
   "metadata": {},
   "outputs": [
    {
     "name": "stdout",
     "output_type": "stream",
     "text": [
      "[[-3 -2 -1  0]\n",
      " [ 1  2  3  4]\n",
      " [ 5  6  7  8]]\n"
     ]
    }
   ],
   "source": [
    "print(h)"
   ]
  },
  {
   "cell_type": "code",
   "execution_count": 24,
   "id": "cf3faf0b",
   "metadata": {},
   "outputs": [
    {
     "name": "stdout",
     "output_type": "stream",
     "text": [
      "[[ True  True  True False]\n",
      " [False False False False]\n",
      " [False False False False]]\n",
      "[-3 -2 -1]\n"
     ]
    }
   ],
   "source": [
    "# pull out negative numbers\n",
    "mask1 = h<0\n",
    "print(mask1)\n",
    "print(h[mask1])"
   ]
  },
  {
   "cell_type": "code",
   "execution_count": 34,
   "id": "5577a75e",
   "metadata": {
    "scrolled": false
   },
   "outputs": [
    {
     "name": "stdout",
     "output_type": "stream",
     "text": [
      "[[False False  True  True]\n",
      " [ True  True  True  True]\n",
      " [ True  True  True  True]]\n",
      "[-1  0  1  2  3  4  5  6  7  8]\n",
      "[[ True  True  True  True]\n",
      " [ True  True  True  True]\n",
      " [ True  True False False]]\n",
      "\n",
      "[[False False  True  True]\n",
      " [ True  True  True  True]\n",
      " [ True  True False False]]\n",
      "[-1  0  1  2  3  4  5  6]\n"
     ]
    }
   ],
   "source": [
    "mask3 = -1<=h\n",
    "print(mask3)\n",
    "print(h[mask3])\n",
    "\n",
    "mask4 = h<=6\n",
    "print(mask4)\n",
    "print()\n",
    "\n",
    "mask5 = np.logical_and(mask3,mask4)\n",
    "print(mask5)\n",
    "print(h[mask5])"
   ]
  },
  {
   "cell_type": "markdown",
   "id": "83b1ea12",
   "metadata": {},
   "source": [
    "# np.where"
   ]
  },
  {
   "cell_type": "code",
   "execution_count": 36,
   "id": "e63a9c23",
   "metadata": {},
   "outputs": [
    {
     "name": "stdout",
     "output_type": "stream",
     "text": [
      "[20 15 18 10 17  0]\n"
     ]
    }
   ],
   "source": [
    "# find location of values\n",
    "k = np.array([20,15,18,10,17,0])\n",
    "print(k)"
   ]
  },
  {
   "cell_type": "code",
   "execution_count": 44,
   "id": "3a6d97c9",
   "metadata": {},
   "outputs": [
    {
     "name": "stdout",
     "output_type": "stream",
     "text": [
      "(array([3]),)\n",
      "<class 'tuple'>\n",
      "1\n",
      "[3]\n",
      "<class 'numpy.ndarray'>\n",
      "3\n",
      "<class 'numpy.int64'>\n",
      "4\n"
     ]
    }
   ],
   "source": [
    "# which class day had 10 students in it\n",
    "index10 = np.where(k==10)\n",
    "print(index10)\n",
    "print(type(index10))\n",
    "print(len(index10))\n",
    "print(index10[0])\n",
    "print(type(index10[0]))\n",
    "print(index10[0][0])\n",
    "print(type(index10[0][0]))\n",
    "print(index10[0][0]+1)\n",
    "\n"
   ]
  },
  {
   "cell_type": "code",
   "execution_count": 50,
   "id": "9d8d4367",
   "metadata": {},
   "outputs": [
    {
     "name": "stdout",
     "output_type": "stream",
     "text": [
      "(array([0, 1, 2, 4]),)\n",
      "the days with more than 10 students were 1 2 3 5\n"
     ]
    }
   ],
   "source": [
    "# which class days had more than 10 students in it\n",
    "index_more_than_10 = np.where(k>10)\n",
    "print(index_more_than_10)\n",
    "print('the days with more than 10 students were', *index_more_than_10[0]+1)"
   ]
  },
  {
   "cell_type": "code",
   "execution_count": 55,
   "id": "509d44ad",
   "metadata": {},
   "outputs": [
    {
     "name": "stdout",
     "output_type": "stream",
     "text": [
      "[array([2, 3])]\n",
      "3\n"
     ]
    }
   ],
   "source": [
    "# create tuple that contains a list that contains an array\n",
    "r = ([np.array([2,3])])\n",
    "print(r)\n",
    "print(r[0][0]+1)"
   ]
  },
  {
   "cell_type": "code",
   "execution_count": null,
   "id": "19dbf89e",
   "metadata": {},
   "outputs": [],
   "source": []
  }
 ],
 "metadata": {
  "kernelspec": {
   "display_name": "Python 3 (ipykernel)",
   "language": "python",
   "name": "python3"
  },
  "language_info": {
   "codemirror_mode": {
    "name": "ipython",
    "version": 3
   },
   "file_extension": ".py",
   "mimetype": "text/x-python",
   "name": "python",
   "nbconvert_exporter": "python",
   "pygments_lexer": "ipython3",
   "version": "3.9.13"
  }
 },
 "nbformat": 4,
 "nbformat_minor": 5
}
