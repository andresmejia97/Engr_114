{
 "cells": [
  {
   "cell_type": "markdown",
   "id": "6447127f-b0c5-429a-802c-711a8d51005a",
   "metadata": {},
   "source": [
    "# If Statement"
   ]
  },
  {
   "cell_type": "code",
   "execution_count": 12,
   "id": "d65718b6-52b4-4f90-8151-a1f3d5af135b",
   "metadata": {},
   "outputs": [
    {
     "name": "stdout",
     "output_type": "stream",
     "text": [
      "input a number 5\n"
     ]
    },
    {
     "name": "stdout",
     "output_type": "stream",
     "text": [
      "<class 'str'>\n",
      "5.0\n",
      "<class 'float'>\n",
      "True\n"
     ]
    }
   ],
   "source": [
    "# ask the user for number \n",
    "# if the number is positive, let the user know\n",
    "n_s = input('input a number')\n",
    "print(type(n_s))\n",
    "n_f = float(n_s)\n",
    "print(n_f)\n",
    "print(type(n_f))\n",
    "print(n_f > 0)"
   ]
  },
  {
   "cell_type": "code",
   "execution_count": 25,
   "id": "efaf3ede-d055-4d25-b5bc-0ec4ebca3647",
   "metadata": {},
   "outputs": [
    {
     "name": "stdout",
     "output_type": "stream",
     "text": [
      " 4\n"
     ]
    },
    {
     "name": "stdout",
     "output_type": "stream",
     "text": [
      "the number is positive\n",
      "end\n"
     ]
    }
   ],
   "source": [
    "o_s = input()\n",
    "o_f = float(o_s)\n",
    "if o_f > 0:\n",
    "    print('the number is positive')\n",
    "if o_f < 0:\n",
    "    print('the number is negative')\n",
    "if o_f == 0:\n",
    "    print('-___-')\n",
    "print('end')"
   ]
  },
  {
   "cell_type": "markdown",
   "id": "e883cc14-32af-474f-9b06-594d39021241",
   "metadata": {},
   "source": [
    " # IF ELSE statement"
   ]
  },
  {
   "cell_type": "code",
   "execution_count": 41,
   "id": "c92f15fd-99e8-46c0-8837-9a9531dbb508",
   "metadata": {},
   "outputs": [
    {
     "name": "stdout",
     "output_type": "stream",
     "text": [
      "enter a number: -1\n"
     ]
    },
    {
     "name": "stdout",
     "output_type": "stream",
     "text": [
      "the number is not 0, it is -1\n",
      "-1 is negative\n",
      "\n",
      "end\n"
     ]
    }
   ],
   "source": [
    "n_s = (input('enter a number:'))\n",
    "n_f = float(n_s)\n",
    "if n_f == 0:\n",
    "    print('the number is 0')\n",
    "else:\n",
    "    print(f'the number is not 0, it is {n_s}')\n",
    "    if n_f > 0:\n",
    "        print(f'{n_s} is positive')\n",
    "    else:\n",
    "        print(f'{n_s} is negative')\n",
    "print('\\n''end')"
   ]
  },
  {
   "cell_type": "markdown",
   "id": "ef0690bb-995d-44d6-9ac3-e8d189e16bea",
   "metadata": {},
   "source": [
    "# IF ELIF ELSE"
   ]
  },
  {
   "cell_type": "code",
   "execution_count": 45,
   "id": "f5e429ff-8092-46d9-b1d7-25772817324f",
   "metadata": {},
   "outputs": [
    {
     "name": "stdout",
     "output_type": "stream",
     "text": [
      "enter a number: 1\n"
     ]
    },
    {
     "name": "stdout",
     "output_type": "stream",
     "text": [
      "the number is positive\n",
      "\n",
      "end\n"
     ]
    }
   ],
   "source": [
    "n_s = (input('enter a number:'))\n",
    "n_f = float(n_s)\n",
    "if n_f == 0:\n",
    "    print('the number is 0')\n",
    "elif n_f > 0:\n",
    "    print('the number is positive')\n",
    "else: \n",
    "    print('the number is negative')\n",
    "print('\\n''end')"
   ]
  },
  {
   "cell_type": "code",
   "execution_count": 51,
   "id": "26cac33e-7e5d-4662-95a8-30ea25991d52",
   "metadata": {},
   "outputs": [
    {
     "name": "stdout",
     "output_type": "stream",
     "text": [
      "if 1\n",
      "if 2\n"
     ]
    }
   ],
   "source": [
    "if True:\n",
    "    print('if 1')\n",
    "elif True:\n",
    "    print('elif 1')\n",
    "if True:\n",
    "    print('if 2')\n",
    "elif True:\n",
    "    print('elif 2')\n",
    "else:\n",
    "    print('else')"
   ]
  },
  {
   "cell_type": "markdown",
   "id": "402957ad-2c93-44ea-9d29-6453487320f8",
   "metadata": {},
   "source": [
    "# TRY EXCEPT"
   ]
  },
  {
   "cell_type": "code",
   "execution_count": 59,
   "id": "60a85eb5-4293-4e62-aac6-aba3702e997a",
   "metadata": {},
   "outputs": [
    {
     "name": "stdout",
     "output_type": "stream",
     "text": [
      "error: the number is stored as a string\n"
     ]
    }
   ],
   "source": [
    "n_s = '6'\n",
    "try:\n",
    "    n_s > 0 \n",
    "except:\n",
    "    print('error: the number is stored as a string')"
   ]
  },
  {
   "cell_type": "code",
   "execution_count": 69,
   "id": "50ccd3c8-a374-41d3-986b-60075e60a86f",
   "metadata": {},
   "outputs": [
    {
     "name": "stdout",
     "output_type": "stream",
     "text": [
      "enter a number, not a string cat\n"
     ]
    },
    {
     "name": "stdout",
     "output_type": "stream",
     "text": [
      "error: the input was a string, not a number\n"
     ]
    }
   ],
   "source": [
    "# ask user for number, tell them if not a number\n",
    "n_s = input('enter a number, not a string')\n",
    "try:\n",
    "    n_f = float(n_s)\n",
    "    if n_f  == 0:\n",
    "        print('the number is 0')\n",
    "    else:\n",
    "        print('the number is not 0')\n",
    "except:\n",
    "    print('error: the input was a string, not a number')"
   ]
  },
  {
   "cell_type": "code",
   "execution_count": 78,
   "id": "1f110e2f-c333-4599-8a99-fbc1369ba993",
   "metadata": {},
   "outputs": [
    {
     "name": "stdout",
     "output_type": "stream",
     "text": [
      "True\n",
      "False\n"
     ]
    }
   ],
   "source": [
    "# check if user input is valid, use pythons in operator\n",
    "print('temp' in ['temp','humid'])\n",
    "print('cat' in ['temp','humid'])"
   ]
  },
  {
   "cell_type": "code",
   "execution_count": 76,
   "id": "24ecea74-8d97-424a-8729-6dc482265a52",
   "metadata": {},
   "outputs": [
    {
     "name": "stdout",
     "output_type": "stream",
     "text": [
      " fd\n"
     ]
    },
    {
     "name": "stdout",
     "output_type": "stream",
     "text": [
      "you did not enter temp or humid\n"
     ]
    }
   ],
   "source": [
    "s = input()\n",
    "if s in ['temp','humid']:\n",
    "    print('you entered temp or humid')\n",
    "else:\n",
    "    print('you did not enter temp or humid')"
   ]
  },
  {
   "cell_type": "markdown",
   "id": "b82de244-f09a-4601-b9fa-bfb4e0ea264b",
   "metadata": {},
   "source": [
    "# practical application of if, else, elif in weather example lab 5"
   ]
  },
  {
   "cell_type": "code",
   "execution_count": 79,
   "id": "cfa01e69-85ca-424f-8fc9-76a55c0851f8",
   "metadata": {},
   "outputs": [
    {
     "name": "stdout",
     "output_type": "stream",
     "text": [
      "couldnt not find csv\n"
     ]
    }
   ],
   "source": [
    "import pandas as pd\n",
    "try:\n",
    "    df=pd.read_csv('data.csv')\n",
    "except:\n",
    "    print('couldnt not find csv')"
   ]
  },
  {
   "cell_type": "markdown",
   "id": "309ca578-63f0-4112-8662-53c3f4ffe0d2",
   "metadata": {},
   "source": [
    "# use for plotting"
   ]
  },
  {
   "cell_type": "code",
   "execution_count": 89,
   "id": "f1b16ffd-4674-4314-8107-678602798821",
   "metadata": {},
   "outputs": [
    {
     "name": "stdout",
     "output_type": "stream",
     "text": [
      "do you want gridlines? no\n",
      "do you want a title? no\n"
     ]
    },
    {
     "data": {
      "image/png": "[encoded data removed]",
      "text/plain": [
       "<Figure size 640x480 with 1 Axes>"
      ]
     },
     "metadata": {},
     "output_type": "display_data"
    }
   ],
   "source": [
    "# ask user if they want gridlines\n",
    "# ask if they want title or not\n",
    "# if they want title, ask user for title\n",
    "import matplotlib.pyplot as plt\n",
    "\n",
    "y = [4,6,8,9,12,17,20]\n",
    "\n",
    "fig, ax = plt.subplots()\n",
    "\n",
    "ax.plot(y)\n",
    "grid = input('do you want gridlines?')\n",
    "if grid in ['yes','Yes','y','Y']:\n",
    "    ax.grid()\n",
    "title = input('do you want a title?')\n",
    "if title in ['yes','Yes','y','Y']:\n",
    "    s = input('what title')\n",
    "    ax.set_title(s)\n",
    "plt.show()"
   ]
  },
  {
   "cell_type": "code",
   "execution_count": null,
   "id": "98cbcb06-cce8-4e38-af7c-6c4d69680329",
   "metadata": {},
   "outputs": [],
   "source": []
  }
 ],
 "metadata": {
  "kernelspec": {
   "display_name": "Python 3 (ipykernel)",
   "language": "python",
   "name": "python3"
  },
  "language_info": {
   "codemirror_mode": {
    "name": "ipython",
    "version": 3
   },
   "file_extension": ".py",
   "mimetype": "text/x-python",
   "name": "python",
   "nbconvert_exporter": "python",
   "pygments_lexer": "ipython3",
   "version": "3.9.13"
  }
 },
 "nbformat": 4,
 "nbformat_minor": 5
}
