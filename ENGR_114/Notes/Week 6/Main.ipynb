{
 "cells": [
  {
   "cell_type": "markdown",
   "id": "85ea3584-fddd-41f6-b8b1-abcbdb6a8e41",
   "metadata": {},
   "source": [
    "# Functions\n",
    "\n"
   ]
  },
  {
   "cell_type": "code",
   "execution_count": 1,
   "id": "ab618753-a8b0-414a-9333-69f99d4122e6",
   "metadata": {},
   "outputs": [
    {
     "name": "stdout",
     "output_type": "stream",
     "text": [
      "9\n"
     ]
    }
   ],
   "source": [
    "n = pow(3,2)\n",
    "print(n)"
   ]
  },
  {
   "cell_type": "code",
   "execution_count": 2,
   "id": "0136ad5e-e411-4ab1-874f-c080d716452d",
   "metadata": {},
   "outputs": [
    {
     "name": "stdout",
     "output_type": "stream",
     "text": [
      "<class 'str'>\n"
     ]
    }
   ],
   "source": [
    "#built in \n",
    "b = 'a string'\n",
    "t = type(b)\n",
    "print(t)"
   ]
  },
  {
   "cell_type": "code",
   "execution_count": 3,
   "id": "7085bc29-3e4e-4b54-b652-495ff6eac9fa",
   "metadata": {},
   "outputs": [
    {
     "name": "stdout",
     "output_type": "stream",
     "text": [
      "0.9129452507276277\n"
     ]
    }
   ],
   "source": [
    "#built in but need to be imported\n",
    "from math import sin\n",
    "r = sin(20)\n",
    "print(r)"
   ]
  },
  {
   "cell_type": "code",
   "execution_count": 4,
   "id": "78a69644-0750-4016-8fcd-bb2dce5d8ac7",
   "metadata": {},
   "outputs": [
    {
     "name": "stdout",
     "output_type": "stream",
     "text": [
      "2\n",
      "2.0\n"
     ]
    }
   ],
   "source": [
    "from statistics import mean\n",
    "print(mean([1,2,3]))\n",
    "from numpy import mean\n",
    "print(mean([1,2,3]))"
   ]
  },
  {
   "cell_type": "code",
   "execution_count": 5,
   "id": "469a613e-4cc0-45eb-ad4e-14dcd694e30f",
   "metadata": {},
   "outputs": [
    {
     "name": "stdout",
     "output_type": "stream",
     "text": [
      "[-0.54402111  0.91294525 -0.98803162]\n"
     ]
    }
   ],
   "source": [
    "# external packages\n",
    "import numpy as np\n",
    "a = np.array([10,20,30])\n",
    "d = np.sin(a)\n",
    "print(d)"
   ]
  },
  {
   "cell_type": "code",
   "execution_count": 6,
   "id": "01645c94-7798-44d1-9b3d-5e18cc80d3af",
   "metadata": {},
   "outputs": [
    {
     "data": {
      "image/png": "[encoded data removed]",
      "text/plain": [
       "<Figure size 640x480 with 1 Axes>"
      ]
     },
     "metadata": {},
     "output_type": "display_data"
    }
   ],
   "source": [
    "import matplotlib.pyplot as plt\n",
    "\n",
    "fig, ax = plt.subplots()\n",
    "ax.plot([2,3,4,5,8])\n",
    "plt.show()"
   ]
  },
  {
   "cell_type": "code",
   "execution_count": 7,
   "id": "d7762638",
   "metadata": {},
   "outputs": [],
   "source": [
    "# creat a function that adds 1 to any number\n",
    "def plus1(n):\n",
    "    out = n + 1\n",
    "    return out "
   ]
  },
  {
   "cell_type": "code",
   "execution_count": 8,
   "id": "6bd859d0-ba92-47be-94dc-931c921a5406",
   "metadata": {},
   "outputs": [
    {
     "data": {
      "text/plain": [
       "3"
      ]
     },
     "execution_count": 8,
     "metadata": {},
     "output_type": "execute_result"
    }
   ],
   "source": [
    "# call the functions defined in the code cell above\n",
    "plus1(2)"
   ]
  },
  {
   "cell_type": "code",
   "execution_count": 9,
   "id": "f8529101-9456-4377-8684-e198379e97af",
   "metadata": {},
   "outputs": [
    {
     "data": {
      "text/plain": [
       "4"
      ]
     },
     "execution_count": 9,
     "metadata": {},
     "output_type": "execute_result"
    }
   ],
   "source": [
    "w = 3\n",
    "plus1(w)"
   ]
  },
  {
   "cell_type": "code",
   "execution_count": 10,
   "id": "61a39ace-dc4a-4798-a35c-a6bc63f72587",
   "metadata": {},
   "outputs": [
    {
     "name": "stdout",
     "output_type": "stream",
     "text": [
      "25.0 6.0 70.0\n"
     ]
    }
   ],
   "source": [
    "#calculating volume of a triangle\n",
    "def triarea(b,h):\n",
    "    a = 0.5*b*h\n",
    "    return a\n",
    "\n",
    "a1 = triarea(5,10)\n",
    "a2 = triarea(4,3)\n",
    "a3 = triarea(70,2)\n",
    "\n",
    "print(a1,a2,a3)"
   ]
  },
  {
   "cell_type": "code",
   "execution_count": 11,
   "id": "7b246819-fdaa-4c3e-9e20-269d6fc830e0",
   "metadata": {},
   "outputs": [
    {
     "data": {
      "text/plain": [
       "84"
      ]
     },
     "execution_count": 11,
     "metadata": {},
     "output_type": "execute_result"
    }
   ],
   "source": [
    "# function for calculating area of a 3d rectangle\n",
    "def rectarea(l,w,h):\n",
    "    v = l*w*h\n",
    "    return v\n",
    "\n",
    "rectarea(3,4,7)\n"
   ]
  },
  {
   "cell_type": "markdown",
   "id": "675a118e-e427-447b-b15d-47cbe205e137",
   "metadata": {},
   "source": [
    "# positional arguments"
   ]
  },
  {
   "cell_type": "code",
   "execution_count": 12,
   "id": "4e4fc640-c200-406e-8e8a-7ae23eb53281",
   "metadata": {},
   "outputs": [
    {
     "name": "stdout",
     "output_type": "stream",
     "text": [
      "(3+2j)\n",
      "(2+3j)\n"
     ]
    }
   ],
   "source": [
    "g = complex(3,2)\n",
    "print(g)\n",
    "g = complex(2,3)\n",
    "print(g)"
   ]
  },
  {
   "cell_type": "code",
   "execution_count": 13,
   "id": "c844d35f-c086-41a5-b02a-866ab3effff0",
   "metadata": {},
   "outputs": [
    {
     "name": "stdout",
     "output_type": "stream",
     "text": [
      "2nd 1st\n"
     ]
    }
   ],
   "source": [
    "print('2nd','1st')"
   ]
  },
  {
   "cell_type": "markdown",
   "id": "bba36647-6277-494d-84b3-4e57e5be10a0",
   "metadata": {},
   "source": [
    "# keyword arguments"
   ]
  },
  {
   "cell_type": "code",
   "execution_count": 14,
   "id": "e0de58b2-5b2c-499a-81c7-65e0339bf070",
   "metadata": {},
   "outputs": [
    {
     "name": "stdout",
     "output_type": "stream",
     "text": [
      "(2+3j)\n",
      "(2+3j)\n"
     ]
    }
   ],
   "source": [
    "g = complex(real=2, imag=3)\n",
    "print(g)\n",
    "\n",
    "h = complex(2,imag=3)\n",
    "print(h)"
   ]
  },
  {
   "cell_type": "code",
   "execution_count": 15,
   "id": "358e9bb0-0205-45d3-aeb7-2d7289a66c8a",
   "metadata": {},
   "outputs": [
    {
     "name": "stdout",
     "output_type": "stream",
     "text": [
      "44.145\n",
      "44.145\n",
      "7.290000000000001\n"
     ]
    }
   ],
   "source": [
    "# create function to calculate the distance an object \n",
    "# will fall in a certain amount of time\n",
    "def fall_d(t,g=9.81, m=1.62):\n",
    "    d = 0.5*g*t**2\n",
    "    return d\n",
    "\n",
    "print(fall_d(3,g=9.81))\n",
    "print(fall_d(3))  # g is already defined\n",
    "\n",
    "print(fall_d(3,g=1.62)) # on the moon "
   ]
  },
  {
   "cell_type": "markdown",
   "id": "101e04c9-5fdc-4185-afa1-14e3291d7cf3",
   "metadata": {},
   "source": [
    "# including documentation and help in your functions"
   ]
  },
  {
   "cell_type": "code",
   "execution_count": 16,
   "id": "2e3ad2ec-d677-4cc4-ac8f-7990cc4d8d32",
   "metadata": {},
   "outputs": [
    {
     "name": "stdout",
     "output_type": "stream",
     "text": [
      "Help on function fall_d in module __main__:\n",
      "\n",
      "fall_d(t, g=9.81, m=1.62)\n",
      "    # create function to calculate the distance an object \n",
      "    # will fall in a certain amount of time\n",
      "\n"
     ]
    }
   ],
   "source": [
    "help(fall_d)"
   ]
  },
  {
   "cell_type": "code",
   "execution_count": 17,
   "id": "e438c24d-3a7b-4d3d-83b3-ff60c8e16902",
   "metadata": {},
   "outputs": [
    {
     "name": "stdout",
     "output_type": "stream",
     "text": [
      "Help on function fall_d in module __main__:\n",
      "\n",
      "fall_d(t, g=9.81)\n",
      "    the function fall_d calculates the fall \n",
      "    distance of an object based on fall time t\n",
      "\n"
     ]
    }
   ],
   "source": [
    "def fall_d(t,g=9.81): \n",
    "    '''\n",
    "    the function fall_d calculates the fall \n",
    "    distance of an object based on fall time t\n",
    "    '''\n",
    "    d = 0.5*g*t**2\n",
    "    return d\n",
    "\n",
    "help(fall_d)"
   ]
  },
  {
   "cell_type": "markdown",
   "id": "88e1a7de-1a8f-4f9c-8547-e633fa4f7c0d",
   "metadata": {},
   "source": [
    "# importing functions"
   ]
  },
  {
   "cell_type": "code",
   "execution_count": 33,
   "id": "baacac5e-a2f8-4794-971d-75a107d063b7",
   "metadata": {},
   "outputs": [
    {
     "name": "stdout",
     "output_type": "stream",
     "text": [
      "/Users/Andres/ENGR 114/Notes/Week 6\n"
     ]
    }
   ],
   "source": [
    "%cd /users/Andres/ENGR 114/Notes/Week 6"
   ]
  },
  {
   "cell_type": "code",
   "execution_count": 34,
   "id": "4fa214b5-e49c-4bde-9223-fd9992365bda",
   "metadata": {},
   "outputs": [
    {
     "name": "stdout",
     "output_type": "stream",
     "text": [
      "Main.ipynb   \u001b[34m__pycache__\u001b[m\u001b[m/ areas.py     my_funcs.py\n"
     ]
    }
   ],
   "source": [
    "%ls"
   ]
  },
  {
   "cell_type": "code",
   "execution_count": 35,
   "id": "6e39d0a2-ceb0-4843-810b-3a9f0273f430",
   "metadata": {},
   "outputs": [
    {
     "ename": "NameError",
     "evalue": "name 'm' is not defined",
     "output_type": "error",
     "traceback": [
      "\u001b[0;31m---------------------------------------------------------------------------\u001b[0m",
      "\u001b[0;31mNameError\u001b[0m                                 Traceback (most recent call last)",
      "\u001b[0;32m/var/folders/yk/k5d_7hg57nx8x0bm9kq7myl80000gn/T/ipykernel_3002/1666570605.py\u001b[0m in \u001b[0;36m<module>\u001b[0;34m\u001b[0m\n\u001b[1;32m      1\u001b[0m \u001b[0;32mfrom\u001b[0m \u001b[0mmy_funcs\u001b[0m \u001b[0;32mimport\u001b[0m \u001b[0mhello_from_file\u001b[0m\u001b[0;34m\u001b[0m\u001b[0;34m\u001b[0m\u001b[0m\n\u001b[0;32m----> 2\u001b[0;31m \u001b[0mhello_from_file\u001b[0m\u001b[0;34m(\u001b[0m\u001b[0;34m'from a notebook'\u001b[0m\u001b[0;34m)\u001b[0m\u001b[0;34m\u001b[0m\u001b[0;34m\u001b[0m\u001b[0m\n\u001b[0m",
      "\u001b[0;32m~/ENGR 114/Notes/Week 6/my_funcs.py\u001b[0m in \u001b[0;36mhello_from_file\u001b[0;34m(n)\u001b[0m\n\u001b[1;32m      1\u001b[0m \u001b[0;31m#create a simple function that prints a hello message\u001b[0m\u001b[0;34m\u001b[0m\u001b[0;34m\u001b[0m\u001b[0m\n\u001b[1;32m      2\u001b[0m \u001b[0;32mdef\u001b[0m \u001b[0mhello_from_file\u001b[0m\u001b[0;34m(\u001b[0m\u001b[0;34m\"m\"\u001b[0m\u001b[0;34m)\u001b[0m\u001b[0;34m:\u001b[0m\u001b[0;34m\u001b[0m\u001b[0;34m\u001b[0m\u001b[0m\n\u001b[0;32m----> 3\u001b[0;31m     \u001b[0;32mreturn\u001b[0m \u001b[0;34m\"hello \"\u001b[0m \u001b[0;34m+\u001b[0m \u001b[0mm\u001b[0m\u001b[0;34m\u001b[0m\u001b[0;34m\u001b[0m\u001b[0m\n\u001b[0m",
      "\u001b[0;31mNameError\u001b[0m: name 'm' is not defined"
     ]
    }
   ],
   "source": [
    "from my_funcs import hello_from_file\n",
    "hello_from_file('from a notebook')"
   ]
  },
  {
   "cell_type": "code",
   "execution_count": 21,
   "id": "148dd391-ec0f-465a-bf6d-b0f0aed1b81f",
   "metadata": {},
   "outputs": [
    {
     "data": {
      "text/plain": [
       "8.0"
      ]
     },
     "execution_count": 21,
     "metadata": {},
     "output_type": "execute_result"
    }
   ],
   "source": [
    "from areas import tri_area\n",
    "tri_area(4,4)"
   ]
  },
  {
   "cell_type": "code",
   "execution_count": null,
   "id": "c4c5889a-4a32-4809-975e-27efa3f9ef15",
   "metadata": {},
   "outputs": [],
   "source": []
  }
 ],
 "metadata": {
  "kernelspec": {
   "display_name": "Python 3 (ipykernel)",
   "language": "python",
   "name": "python3"
  },
  "language_info": {
   "codemirror_mode": {
    "name": "ipython",
    "version": 3
   },
   "file_extension": ".py",
   "mimetype": "text/x-python",
   "name": "python",
   "nbconvert_exporter": "python",
   "pygments_lexer": "ipython3",
   "version": "3.9.13"
  }
 },
 "nbformat": 4,
 "nbformat_minor": 5
}
