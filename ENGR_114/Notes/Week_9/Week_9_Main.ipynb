{
 "cells": [
  {
   "cell_type": "markdown",
   "metadata": {},
   "source": [
    "Andres Mejia\n",
    "\n",
    "Engr 114 winter 23"
   ]
  },
  {
   "cell_type": "code",
   "execution_count": 3,
   "metadata": {},
   "outputs": [],
   "source": [
    "import numpy as np\n",
    "import pandas as pd"
   ]
  },
  {
   "cell_type": "code",
   "execution_count": 1,
   "metadata": {},
   "outputs": [
    {
     "name": "stdout",
     "output_type": "stream",
     "text": [
      "The word 'ayo' starts with a vowel\n"
     ]
    }
   ],
   "source": [
    "s = input('Enter a word: ')\n",
    "vowels = ['a','i','e','o','u']\n",
    "consonants = ['b', 'c', 'd', 'f', 'g', 'h', 'j', 'k', 'l', 'm', 'n', 'p', 'q', 'r', 's', 't', 'v', 'w', 'x', 'y', 'z']\n",
    "\n",
    "if s[0] in vowels:\n",
    "    print(f'The word \\'{s}\\' starts with a vowel')\n",
    "elif s[0] in consonants:\n",
    "    print(f'The word \\'{s}\\' starts with a consonant')\n",
    "else:\n",
    "    print(f'The input \\'{s}\\' does not start with a letter')"
   ]
  },
  {
   "attachments": {},
   "cell_type": "markdown",
   "metadata": {},
   "source": [
    "# importing functions"
   ]
  },
  {
   "cell_type": "code",
   "execution_count": 28,
   "metadata": {},
   "outputs": [
    {
     "name": "stdout",
     "output_type": "stream",
     "text": [
      "'five' is not an integer\n"
     ]
    }
   ],
   "source": [
    "from plus_func import plus_3\n",
    "u = input('enter a number')\n",
    "try:\n",
    "    t = int(u)\n",
    "    int == type(t)\n",
    "    print(plus_3(t))\n",
    "except:\n",
    "    print(f'\\'{u}\\' is not an integer')"
   ]
  },
  {
   "attachments": {},
   "cell_type": "markdown",
   "metadata": {},
   "source": [
    "# loops\n",
    "* 'repetition structure'\n",
    "* runs a block of code a specific number of times\n",
    "\n",
    "* for < variable > in < interable > :\n",
    "    '\\n' code"
   ]
  },
  {
   "cell_type": "code",
   "execution_count": 36,
   "metadata": {},
   "outputs": [
    {
     "name": "stdout",
     "output_type": "stream",
     "text": [
      "engr114\n",
      "engr114\n",
      "engr114 \n",
      "\n",
      "engr114\n",
      "engr114\n",
      "engr114\n"
     ]
    }
   ],
   "source": [
    "## for loops\n",
    "import numpy as np\n",
    "\n",
    "print('engr114')\n",
    "print('engr114')\n",
    "print('engr114 \\n')\n",
    "\n",
    "for i in range(3):\n",
    "    print('engr114')"
   ]
  },
  {
   "cell_type": "code",
   "execution_count": 37,
   "metadata": {},
   "outputs": [
    {
     "name": "stdout",
     "output_type": "stream",
     "text": [
      "0\n",
      "1\n",
      "2\n"
     ]
    }
   ],
   "source": [
    "for i in range(3):\n",
    "    print(i)"
   ]
  },
  {
   "cell_type": "code",
   "execution_count": 38,
   "metadata": {},
   "outputs": [
    {
     "name": "stdout",
     "output_type": "stream",
     "text": [
      "2\n",
      "4\n",
      "6\n",
      "8\n",
      "10\n"
     ]
    }
   ],
   "source": [
    "for i in range(2,11,2):\n",
    "    print(i)"
   ]
  },
  {
   "cell_type": "code",
   "execution_count": 40,
   "metadata": {},
   "outputs": [
    {
     "name": "stdout",
     "output_type": "stream",
     "text": [
      "1 3 5 7 9 11 13 15 17 19 21 23 25 27 29 31 33 35 37 39 41 43 45 47 49 51 53 55 57 59 61 63 65 67 69 71 73 75 77 79 81 83 85 87 89 91 93 95 97 99 "
     ]
    }
   ],
   "source": [
    "for i in range(1,100,2):\n",
    "    print(i, end=' ')"
   ]
  },
  {
   "attachments": {},
   "cell_type": "markdown",
   "metadata": {},
   "source": [
    "# for loops with lists"
   ]
  },
  {
   "cell_type": "code",
   "execution_count": 44,
   "metadata": {},
   "outputs": [
    {
     "name": "stdout",
     "output_type": "stream",
     "text": [
      "mon\n",
      "tues\n",
      "wed\n",
      "thurs\n",
      "fri\n"
     ]
    }
   ],
   "source": [
    "week_days = ['mon', 'tues', 'wed', 'thurs', 'fri']\n",
    "for day in week_days:\n",
    "    print(day)"
   ]
  },
  {
   "cell_type": "code",
   "execution_count": 45,
   "metadata": {},
   "outputs": [
    {
     "name": "stdout",
     "output_type": "stream",
     "text": [
      "red\n",
      "green\n",
      "blue\n",
      "the loop is finished\n"
     ]
    }
   ],
   "source": [
    "colors = ['red', 'green', 'blue']\n",
    "for color in colors:\n",
    "    print(color)\n",
    "print('the loop is finished')"
   ]
  },
  {
   "cell_type": "code",
   "execution_count": 46,
   "metadata": {},
   "outputs": [
    {
     "name": "stdout",
     "output_type": "stream",
     "text": [
      "the loop is running, the next number is 20 and the new list is [20]\n",
      "the loop is running, the next number is 40 and the new list is [20, 40]\n",
      "the loop is running, the next number is 60 and the new list is [20, 40, 60]\n",
      "the loop is running, the next number is 80 and the new list is [20, 40, 60, 80]\n",
      "the final list is [20, 40, 60, 80]\n"
     ]
    }
   ],
   "source": [
    "numbers = [2,4,6,8]\n",
    "new_list = []\n",
    "for num in numbers:\n",
    "    new_num = num*10\n",
    "    new_list.append(new_num)\n",
    "    print(f'the loop is running, the next number is {new_num} and the new list is {new_list}')\n",
    "print(f'the final list is {new_list}')"
   ]
  },
  {
   "cell_type": "code",
   "execution_count": 47,
   "metadata": {},
   "outputs": [
    {
     "name": "stdout",
     "output_type": "stream",
     "text": [
      "e\n",
      "n\n",
      "g\n",
      "r\n",
      "1\n",
      "1\n",
      "4\n"
     ]
    }
   ],
   "source": [
    "s = 'engr114'\n",
    "for character in s:\n",
    "    print(character)"
   ]
  },
  {
   "cell_type": "code",
   "execution_count": 52,
   "metadata": {},
   "outputs": [
    {
     "name": "stdout",
     "output_type": "stream",
     "text": [
      "GABBY"
     ]
    }
   ],
   "source": [
    "'g'.upper()\n",
    "\n",
    "name = 'gabby'\n",
    "for letter in name:\n",
    "    print(letter.upper(),end='')"
   ]
  },
  {
   "attachments": {},
   "cell_type": "markdown",
   "metadata": {},
   "source": [
    "# While Loops\n",
    "* indefinite iteration\n",
    "* you do not know forsure how many times will run"
   ]
  },
  {
   "cell_type": "code",
   "execution_count": 53,
   "metadata": {},
   "outputs": [
    {
     "name": "stdout",
     "output_type": "stream",
     "text": [
      "0\n",
      "1\n",
      "2\n"
     ]
    }
   ],
   "source": [
    "i = 0\n",
    "while i<3:\n",
    "    print(i)\n",
    "    i = i + 1  # incrememnts or adds 1 to variable i"
   ]
  },
  {
   "cell_type": "code",
   "execution_count": 60,
   "metadata": {},
   "outputs": [
    {
     "name": "stdout",
     "output_type": "stream",
     "text": [
      "100\n",
      "100\n",
      "70\n",
      "30\n",
      "10\n",
      "9\n",
      "you entered a valid number, '9'\n"
     ]
    }
   ],
   "source": [
    "n = 11\n",
    "\n",
    "while not n<10:\n",
    "    n = int(input('enter a number less than 10'))\n",
    "    print(n)\n",
    "print(f'you entered a valid number, \\'{n}\\'')"
   ]
  },
  {
   "cell_type": "code",
   "execution_count": 62,
   "metadata": {},
   "outputs": [
    {
     "name": "stdout",
     "output_type": "stream",
     "text": [
      "orange\n",
      "pink\n",
      "magenta\n",
      "cyan\n",
      "yellow\n",
      "green\n",
      "'green' is a valid color\n"
     ]
    }
   ],
   "source": [
    "color = 'orange'\n",
    "valid_colors = ['red', 'green', 'blue']\n",
    "\n",
    "while not color in valid_colors:\n",
    "    color = input('enter the color red, green, or blue')\n",
    "    print(color)\n",
    "print(f'\\'{color}\\' is a valid color')"
   ]
  },
  {
   "cell_type": "code",
   "execution_count": 72,
   "metadata": {},
   "outputs": [
    {
     "name": "stdout",
     "output_type": "stream",
     "text": [
      "the number is odd\n",
      "the number is odd\n",
      "the number is odd\n",
      "the number is odd\n"
     ]
    }
   ],
   "source": [
    "# n = 'r'\n",
    "\n",
    "while True:\n",
    "    n_str = input('Enter a number')\n",
    "    if n_str == 'q' or n_str == 'quit':\n",
    "        break                               # breaks out of a loop early\n",
    "    try:\n",
    "        n = int(n_str)\n",
    "    except:\n",
    "        if n%2==0:\n",
    "            print('the number is even')\n",
    "\n",
    "        else:\n",
    "            print('the number is odd')\n"
   ]
  },
  {
   "cell_type": "code",
   "execution_count": 85,
   "metadata": {},
   "outputs": [
    {
     "name": "stdout",
     "output_type": "stream",
     "text": [
      "the money saved after 18 years is 929202.4054801323\n",
      "210000\n"
     ]
    }
   ],
   "source": [
    "old_b = 10000\n",
    "contribution = 6000\n",
    "interest = 0\n",
    "\n",
    "for i in range(35):\n",
    "    new_b = old_b + interest + contribution\n",
    "    interest = new_b * 0.07\n",
    "    old_b = new_b\n",
    "\n",
    "\n",
    "print(f'the money saved after 18 years is {new_b}')\n",
    "print(contribution * 35)"
   ]
  },
  {
   "cell_type": "code",
   "execution_count": null,
   "metadata": {},
   "outputs": [],
   "source": []
  }
 ],
 "metadata": {
  "kernelspec": {
   "display_name": "base",
   "language": "python",
   "name": "python3"
  },
  "language_info": {
   "codemirror_mode": {
    "name": "ipython",
    "version": 3
   },
   "file_extension": ".py",
   "mimetype": "text/x-python",
   "name": "python",
   "nbconvert_exporter": "python",
   "pygments_lexer": "ipython3",
   "version": "3.9.13"
  },
  "orig_nbformat": 4,
  "vscode": {
   "interpreter": {
    "hash": "64d091fd920de13a5a564622279efe4328d829c3c6232ad693addbb2f159d972"
   }
  }
 },
 "nbformat": 4,
 "nbformat_minor": 2
}
