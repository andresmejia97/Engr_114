{
 "cells": [
  {
   "cell_type": "markdown",
   "id": "86ff1e76",
   "metadata": {},
   "source": [
    "# Numpy and Arrays"
   ]
  },
  {
   "cell_type": "code",
   "execution_count": 1,
   "id": "295aedd0",
   "metadata": {},
   "outputs": [
    {
     "data": {
      "text/plain": [
       "int"
      ]
     },
     "execution_count": 1,
     "metadata": {},
     "output_type": "execute_result"
    }
   ],
   "source": [
    "# built in functions to python standard library\n",
    "a = 3\n",
    "type(a)"
   ]
  },
  {
   "cell_type": "code",
   "execution_count": 2,
   "id": "4c054169",
   "metadata": {},
   "outputs": [
    {
     "name": "stdout",
     "output_type": "stream",
     "text": [
      "the print functions is also built-in to python\n"
     ]
    }
   ],
   "source": [
    "print('the print functions is also built-in to python')"
   ]
  },
  {
   "cell_type": "code",
   "execution_count": 3,
   "id": "cadc26f4",
   "metadata": {},
   "outputs": [
    {
     "data": {
      "text/plain": [
       "3"
      ]
     },
     "execution_count": 3,
     "metadata": {},
     "output_type": "execute_result"
    }
   ],
   "source": [
    "b = [1,2.2,'me']\n",
    "len(b)"
   ]
  },
  {
   "cell_type": "code",
   "execution_count": 4,
   "id": "5e81cd56",
   "metadata": {},
   "outputs": [
    {
     "ename": "NameError",
     "evalue": "name 'sin' is not defined",
     "output_type": "error",
     "traceback": [
      "\u001b[0;31m---------------------------------------------------------------------------\u001b[0m",
      "\u001b[0;31mNameError\u001b[0m                                 Traceback (most recent call last)",
      "\u001b[0;32m/var/folders/yk/k5d_7hg57nx8x0bm9kq7myl80000gn/T/ipykernel_26579/2673299820.py\u001b[0m in \u001b[0;36m<module>\u001b[0;34m\u001b[0m\n\u001b[1;32m      1\u001b[0m \u001b[0;31m# some functions are part of the python standard library but not built in\u001b[0m\u001b[0;34m\u001b[0m\u001b[0;34m\u001b[0m\u001b[0m\n\u001b[1;32m      2\u001b[0m \u001b[0;31m# need to be imported\u001b[0m\u001b[0;34m\u001b[0m\u001b[0;34m\u001b[0m\u001b[0m\n\u001b[0;32m----> 3\u001b[0;31m \u001b[0msin\u001b[0m\u001b[0;34m(\u001b[0m\u001b[0;36m20\u001b[0m\u001b[0;34m)\u001b[0m\u001b[0;34m\u001b[0m\u001b[0;34m\u001b[0m\u001b[0m\n\u001b[0m",
      "\u001b[0;31mNameError\u001b[0m: name 'sin' is not defined"
     ]
    }
   ],
   "source": [
    "# some functions are part of the python standard library but not built in\n",
    "# need to be imported \n",
    "sin(20)"
   ]
  },
  {
   "cell_type": "code",
   "execution_count": null,
   "id": "2228ee1f",
   "metadata": {},
   "outputs": [],
   "source": [
    "from math import sin\n",
    "sin(20)"
   ]
  },
  {
   "cell_type": "code",
   "execution_count": 6,
   "id": "22571db3",
   "metadata": {},
   "outputs": [
    {
     "name": "stdout",
     "output_type": "stream",
     "text": [
      "0.9092974268256817\n",
      "-0.4161468365471424\n",
      "-2.185039863261519\n"
     ]
    }
   ],
   "source": [
    "from math import sin, cos, tan\n",
    "print(sin(2))\n",
    "print(cos(2))\n",
    "print(tan(2))"
   ]
  },
  {
   "cell_type": "markdown",
   "id": "44b19f3f",
   "metadata": {},
   "source": [
    "python itself does not have numpy and pandas but anaconda comes with them"
   ]
  },
  {
   "cell_type": "code",
   "execution_count": 10,
   "id": "1857dc48",
   "metadata": {},
   "outputs": [
    {
     "data": {
      "text/plain": [
       "array([1, 2, 3])"
      ]
     },
     "execution_count": 10,
     "metadata": {},
     "output_type": "execute_result"
    }
   ],
   "source": [
    "from numpy import array\n",
    "array([1,2,3])"
   ]
  },
  {
   "cell_type": "code",
   "execution_count": 21,
   "id": "93c88359",
   "metadata": {},
   "outputs": [
    {
     "data": {
      "text/plain": [
       "'1.21.5'"
      ]
     },
     "execution_count": 21,
     "metadata": {},
     "output_type": "execute_result"
    }
   ],
   "source": [
    "#import all numpy functions\n",
    "import numpy as np   # good and widely used abbreviation\n",
    "np.__version__  # get version number of import"
   ]
  },
  {
   "cell_type": "markdown",
   "id": "472f4d39",
   "metadata": {},
   "source": [
    "# List vs Arrays"
   ]
  },
  {
   "cell_type": "code",
   "execution_count": 29,
   "id": "e78c8922",
   "metadata": {},
   "outputs": [
    {
     "name": "stdout",
     "output_type": "stream",
     "text": [
      "[1, 2.2, 'me']\n",
      "['1' '2.2' 'me']\n",
      "[1.  2.  3.3]\n",
      "[1. 0. 0. 0.]\n"
     ]
    }
   ],
   "source": [
    "a = [1,2.2,'me']\n",
    "print(a)\n",
    "b = np.array([1,2.2,'me'])\n",
    "print(b)\n",
    "c = np.array([1,2,3.3])\n",
    "print(c)\n",
    "d = np.array([True,False,0, 0.0])\n",
    "print(d)\n",
    "\n",
    "# arrays are homogenous so makes all items into one type (least precise data type)"
   ]
  },
  {
   "cell_type": "code",
   "execution_count": 38,
   "id": "544a1857",
   "metadata": {},
   "outputs": [
    {
     "name": "stdout",
     "output_type": "stream",
     "text": [
      "[1 2 3]\n",
      "int64\n",
      "3\n",
      "1\n"
     ]
    }
   ],
   "source": [
    "a = np.array([1,2,3])\n",
    "print(a)\n",
    "print(a.dtype)          # get data type\n",
    "print(a.size)           # amount of objects in array\n",
    "print(a.ndim)"
   ]
  },
  {
   "cell_type": "code",
   "execution_count": 36,
   "id": "990e1b3a",
   "metadata": {},
   "outputs": [
    {
     "name": "stdout",
     "output_type": "stream",
     "text": [
      "[1. 2. 3.]\n"
     ]
    },
    {
     "data": {
      "text/plain": [
       "dtype('float64')"
      ]
     },
     "execution_count": 36,
     "metadata": {},
     "output_type": "execute_result"
    }
   ],
   "source": [
    "b = np.array([1,2,3], np.float64)\n",
    "print(b)\n",
    "b.dtype"
   ]
  },
  {
   "cell_type": "code",
   "execution_count": 42,
   "id": "efd2788d",
   "metadata": {},
   "outputs": [
    {
     "name": "stdout",
     "output_type": "stream",
     "text": [
      "[[1 2]\n",
      " [3 4]]\n"
     ]
    },
    {
     "data": {
      "text/plain": [
       "(2, 2)"
      ]
     },
     "execution_count": 42,
     "metadata": {},
     "output_type": "execute_result"
    }
   ],
   "source": [
    "c = np.array([[1,2], [3,4]])\n",
    "print(c)\n",
    "c.shape                           # shape of array, rows/columns"
   ]
  },
  {
   "cell_type": "code",
   "execution_count": 43,
   "id": "c9760002",
   "metadata": {},
   "outputs": [
    {
     "name": "stdout",
     "output_type": "stream",
     "text": [
      "[ True False]\n"
     ]
    },
    {
     "name": "stderr",
     "output_type": "stream",
     "text": [
      "/var/folders/yk/k5d_7hg57nx8x0bm9kq7myl80000gn/T/ipykernel_26579/393158039.py:2: DeprecationWarning: `np.bool` is a deprecated alias for the builtin `bool`. To silence this warning, use `bool` by itself. Doing this will not modify any behavior and is safe. If you specifically wanted the numpy scalar type, use `np.bool_` here.\n",
      "Deprecated in NumPy 1.20; for more details and guidance: https://numpy.org/devdocs/release/1.20.0-notes.html#deprecations\n",
      "  d = np.array([1.1,0.0], np.bool)\n"
     ]
    }
   ],
   "source": [
    "# cast the datatype as more precise\n",
    "d = np.array([1.1,0.0], np.bool)\n",
    "print(d)"
   ]
  },
  {
   "cell_type": "code",
   "execution_count": 48,
   "id": "03d9cdd7",
   "metadata": {},
   "outputs": [
    {
     "name": "stdout",
     "output_type": "stream",
     "text": [
      "[ 0  1  2  3  4  5  6  7  8  9 10]\n"
     ]
    }
   ],
   "source": [
    "# np.arange\n",
    "b = np.arange(0,11,1)   #start, stop(exclusive), step\n",
    "print(b)"
   ]
  },
  {
   "cell_type": "code",
   "execution_count": 45,
   "id": "1f701e3d",
   "metadata": {},
   "outputs": [
    {
     "data": {
      "text/plain": [
       "array([ 0,  1,  2,  3,  4,  5,  6,  7,  8,  9, 10])"
      ]
     },
     "execution_count": 45,
     "metadata": {},
     "output_type": "execute_result"
    }
   ],
   "source": [
    "b = np.arange(0,11)    #default step 1\n",
    "b"
   ]
  },
  {
   "cell_type": "code",
   "execution_count": 47,
   "id": "ab38b97c",
   "metadata": {},
   "outputs": [
    {
     "data": {
      "text/plain": [
       "array([ 0,  1,  2,  3,  4,  5,  6,  7,  8,  9, 10])"
      ]
     },
     "execution_count": 47,
     "metadata": {},
     "output_type": "execute_result"
    }
   ],
   "source": [
    "b = np.arange(11)    # default start 0, default step 1\n",
    "b"
   ]
  },
  {
   "cell_type": "code",
   "execution_count": 51,
   "id": "ba8e5664",
   "metadata": {},
   "outputs": [
    {
     "data": {
      "text/plain": [
       "array([ 0.        ,  3.33333333,  6.66666667, 10.        ])"
      ]
     },
     "execution_count": 51,
     "metadata": {},
     "output_type": "execute_result"
    }
   ],
   "source": [
    "#np.linspace\n",
    "c = np.linspace(0,10,4)\n",
    "c"
   ]
  },
  {
   "cell_type": "code",
   "execution_count": 52,
   "id": "17dd8130",
   "metadata": {},
   "outputs": [
    {
     "data": {
      "text/plain": [
       "array([0.        , 0.6981317 , 1.3962634 , 2.0943951 , 2.7925268 ,\n",
       "       3.4906585 , 4.1887902 , 4.88692191, 5.58505361, 6.28318531])"
      ]
     },
     "execution_count": 52,
     "metadata": {},
     "output_type": "execute_result"
    }
   ],
   "source": [
    "c = np.linspace(0,2*np.pi,10)  # 10 angles between 0 an d2pi leaneraly spaced\n",
    "c"
   ]
  },
  {
   "cell_type": "code",
   "execution_count": 53,
   "id": "d573ba63",
   "metadata": {},
   "outputs": [
    {
     "data": {
      "text/plain": [
       "array([1.e+00, 1.e+02, 1.e+04])"
      ]
     },
     "execution_count": 53,
     "metadata": {},
     "output_type": "execute_result"
    }
   ],
   "source": [
    "# np.logspace\n",
    "d = np.logspace(0,4,3)   # start exponent, stop exponent, number of values\n",
    "d"
   ]
  },
  {
   "cell_type": "code",
   "execution_count": 61,
   "id": "32a2875d",
   "metadata": {},
   "outputs": [
    {
     "name": "stdout",
     "output_type": "stream",
     "text": [
      "[0. 0. 0. 0. 0.]\n",
      "[False False False False False]\n"
     ]
    }
   ],
   "source": [
    "e = np.zeros(5)\n",
    "print(e)\n",
    "ee = np.zeros(5, dtype=np.bool_)\n",
    "print(ee)"
   ]
  },
  {
   "cell_type": "code",
   "execution_count": 59,
   "id": "81c0771a",
   "metadata": {},
   "outputs": [
    {
     "data": {
      "text/plain": [
       "array([1, 1, 1, 1])"
      ]
     },
     "execution_count": 59,
     "metadata": {},
     "output_type": "execute_result"
    }
   ],
   "source": [
    "f = np.ones(4, dtype=np.int64) # creat array ofones with an integer data type\n",
    "f"
   ]
  },
  {
   "cell_type": "code",
   "execution_count": 63,
   "id": "eca24ad7",
   "metadata": {},
   "outputs": [
    {
     "name": "stdout",
     "output_type": "stream",
     "text": [
      "[1. 1. 1. 1. 1. 1.]\n",
      "(6,)\n",
      "[[1. 1. 1.]\n",
      " [1. 1. 1.]]\n",
      "(2, 3)\n"
     ]
    }
   ],
   "source": [
    "g = np.ones(6)\n",
    "print(g)\n",
    "print(g.shape)\n",
    "g.shape = (2,3)       # manipulate the shape\n",
    "print(g)\n",
    "print(g.shape)"
   ]
  },
  {
   "cell_type": "code",
   "execution_count": 64,
   "id": "b1277b98",
   "metadata": {},
   "outputs": [
    {
     "name": "stdout",
     "output_type": "stream",
     "text": [
      "[100 200 300 400 500 600 700 800 900]\n",
      "9\n",
      "(9,)\n"
     ]
    }
   ],
   "source": [
    "k = np.arange(100,1000,100)\n",
    "print(k)\n",
    "print(k.size)\n",
    "print(k.shape)"
   ]
  },
  {
   "cell_type": "code",
   "execution_count": 69,
   "id": "b713094d",
   "metadata": {},
   "outputs": [
    {
     "name": "stdout",
     "output_type": "stream",
     "text": [
      "100\n",
      "900\n",
      "[100 300]\n",
      "[400 300]\n",
      "[400 500 600 700 800 900]\n"
     ]
    }
   ],
   "source": [
    "print(k[0])\n",
    "print(k[-1])\n",
    "print(k[0:4:2])\n",
    "print(k[3:1:-1])\n",
    "print(k[3:])"
   ]
  },
  {
   "cell_type": "markdown",
   "id": "ebe39d09",
   "metadata": {},
   "source": [
    "# two dimensional arrays"
   ]
  },
  {
   "cell_type": "code",
   "execution_count": 70,
   "id": "9f809273",
   "metadata": {},
   "outputs": [
    {
     "name": "stdout",
     "output_type": "stream",
     "text": [
      "[ 1  2  3  4  5  6  7  8  9 10 11 12]\n",
      "[[ 1  2  3  4]\n",
      " [ 5  6  7  8]\n",
      " [ 9 10 11 12]]\n"
     ]
    }
   ],
   "source": [
    "m = np.arange(1,13,1)\n",
    "print(m)\n",
    "m.shape=(3,4)      # make sure to use = to set shape\n",
    "print(m)"
   ]
  },
  {
   "cell_type": "code",
   "execution_count": 75,
   "id": "04319bda",
   "metadata": {},
   "outputs": [
    {
     "name": "stdout",
     "output_type": "stream",
     "text": [
      "1\n",
      "7\n"
     ]
    }
   ],
   "source": [
    "# pull out row 1 column 0\n",
    "print(m[0,0])\n",
    "print(m[1,2])"
   ]
  },
  {
   "cell_type": "code",
   "execution_count": 80,
   "id": "f4677439",
   "metadata": {},
   "outputs": [
    {
     "name": "stdout",
     "output_type": "stream",
     "text": [
      "[ 2  6 10]\n",
      "[[ 9 10 11 12]]\n",
      "\n",
      "[[ 7  8]\n",
      " [11 12]]\n",
      "\n",
      "[[ 6  7]\n",
      " [10 11]]\n",
      "\n",
      "\n"
     ]
    }
   ],
   "source": [
    "print(m[:,1])    # pull out col\n",
    "print(m[2:,])    # pull out row\n",
    "print()\n",
    "print(m[1:,2:])\n",
    "print()\n",
    "print(m[1:,1:3])\n",
    "print()\n",
    "print()"
   ]
  },
  {
   "cell_type": "code",
   "execution_count": 81,
   "id": "46a48672",
   "metadata": {},
   "outputs": [
    {
     "name": "stdout",
     "output_type": "stream",
     "text": [
      "[-3 -2 -1  0  1  2  3]\n"
     ]
    }
   ],
   "source": [
    "#np.where to find location of a value\n",
    "n = np.arange(-3,4,1)\n",
    "print(n)"
   ]
  },
  {
   "cell_type": "code",
   "execution_count": 85,
   "id": "c70620e5",
   "metadata": {},
   "outputs": [
    {
     "name": "stdout",
     "output_type": "stream",
     "text": [
      "(array([5]),)\n",
      "2\n",
      "[2]\n"
     ]
    }
   ],
   "source": [
    "print(np.where(n==2))\n",
    "print(n[5])\n",
    "\n",
    "loc = np.where(n==2)\n",
    "print(n[loc])"
   ]
  },
  {
   "cell_type": "code",
   "execution_count": 88,
   "id": "c2296cda",
   "metadata": {},
   "outputs": [
    {
     "name": "stdout",
     "output_type": "stream",
     "text": [
      "(array([4, 5, 6]),)\n",
      "[1 2 3]\n"
     ]
    }
   ],
   "source": [
    "loc = np.where(n>0)\n",
    "print(loc)\n",
    "print(n[loc])"
   ]
  },
  {
   "cell_type": "code",
   "execution_count": 90,
   "id": "e291e650",
   "metadata": {},
   "outputs": [
    {
     "name": "stdout",
     "output_type": "stream",
     "text": [
      "(array([0, 1]),)\n",
      "[1 1]\n"
     ]
    }
   ],
   "source": [
    "p = np.array([1,1,2,2])\n",
    "loc = np.where(p==1)\n",
    "print(loc)\n",
    "print(p[loc])"
   ]
  },
  {
   "cell_type": "code",
   "execution_count": 92,
   "id": "de333379",
   "metadata": {},
   "outputs": [
    {
     "data": {
      "text/plain": [
       "array([2.2, 2.1, 2.3, 2. ])"
      ]
     },
     "execution_count": 92,
     "metadata": {},
     "output_type": "execute_result"
    }
   ],
   "source": [
    "# np.where can be used to remove outliers from data sets\n",
    "r = np.array([2.2,2.1,2.3,2.0,-9999999999999])\n",
    "locs = np.where(r>0)\n",
    "r[locs]"
   ]
  },
  {
   "cell_type": "markdown",
   "id": "96931d56",
   "metadata": {},
   "source": [
    "# Boolean Masks\n",
    "\n",
    "when masking each true returns a value where as false returns nothing"
   ]
  },
  {
   "cell_type": "code",
   "execution_count": 93,
   "id": "76bf841d",
   "metadata": {},
   "outputs": [
    {
     "data": {
      "text/plain": [
       "array([10, 15])"
      ]
     },
     "execution_count": 93,
     "metadata": {},
     "output_type": "execute_result"
    }
   ],
   "source": [
    "t = np.array([-3,-4,0,10,15])\n",
    "mask1 = np.array([False,False,False,True,True])\n",
    "t[mask1]"
   ]
  },
  {
   "cell_type": "code",
   "execution_count": 101,
   "id": "66812c89",
   "metadata": {},
   "outputs": [
    {
     "name": "stdout",
     "output_type": "stream",
     "text": [
      "[False False False  True  True]\n",
      "[10 15]\n",
      "\n",
      "[ True  True  True False False]\n",
      "[-3 -4  0]\n"
     ]
    }
   ],
   "source": [
    "mask2 = t>2\n",
    "print(mask2)\n",
    "print(t[mask2])\n",
    "print()\n",
    "mask3 = t<=0\n",
    "print(mask3)\n",
    "print(t[mask3])"
   ]
  },
  {
   "cell_type": "code",
   "execution_count": 104,
   "id": "dc5ab319",
   "metadata": {},
   "outputs": [
    {
     "name": "stdout",
     "output_type": "stream",
     "text": [
      "[ 6  8 14 24 38 56]\n"
     ]
    }
   ],
   "source": [
    "t = np.array([0,1,2,3,4,5])\n",
    "x = 2*t**2 + 4*4 - 10\n",
    "print(x)"
   ]
  },
  {
   "cell_type": "code",
   "execution_count": 107,
   "id": "40de14a2",
   "metadata": {},
   "outputs": [
    {
     "name": "stdout",
     "output_type": "stream",
     "text": [
      "[5 7 9]\n",
      "[3 3 3]\n",
      "[-3  6 -3]\n",
      "32\n"
     ]
    }
   ],
   "source": [
    "a = np.array([1,2,3])\n",
    "b = np.array([4,5,6])\n",
    "print(a + b)\n",
    "print(b - a)\n",
    "print(np.cross(a,b))\n",
    "print(np.dot(a,b))"
   ]
  },
  {
   "cell_type": "code",
   "execution_count": null,
   "id": "039e2ce3",
   "metadata": {},
   "outputs": [],
   "source": []
  }
 ],
 "metadata": {
  "kernelspec": {
   "display_name": "Python 3 (ipykernel)",
   "language": "python",
   "name": "python3"
  },
  "language_info": {
   "codemirror_mode": {
    "name": "ipython",
    "version": 3
   },
   "file_extension": ".py",
   "mimetype": "text/x-python",
   "name": "python",
   "nbconvert_exporter": "python",
   "pygments_lexer": "ipython3",
   "version": "3.9.13"
  }
 },
 "nbformat": 4,
 "nbformat_minor": 5
}
