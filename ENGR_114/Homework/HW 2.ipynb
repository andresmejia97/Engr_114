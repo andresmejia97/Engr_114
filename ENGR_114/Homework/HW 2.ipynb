{
 "cells": [
  {
   "cell_type": "code",
   "execution_count": 1,
   "id": "dbfe1a7d",
   "metadata": {
    "id": "dbfe1a7d",
    "outputId": "c5da459f-a559-407a-89f5-17cf0fbde209"
   },
   "outputs": [
    {
     "data": {
      "text/plain": [
       "int"
      ]
     },
     "execution_count": 1,
     "metadata": {},
     "output_type": "execute_result"
    }
   ],
   "source": [
    "# 4.01\n",
    "a = 9\n",
    "type (a)"
   ]
  },
  {
   "cell_type": "code",
   "execution_count": 2,
   "id": "824aadab",
   "metadata": {
    "id": "824aadab",
    "outputId": "b8608f9f-a95b-46f2-94c0-7021febe66a4"
   },
   "outputs": [
    {
     "data": {
      "text/plain": [
       "float"
      ]
     },
     "execution_count": 2,
     "metadata": {},
     "output_type": "execute_result"
    }
   ],
   "source": [
    "# 4.02\n",
    "a = 9.\n",
    "type (a)"
   ]
  },
  {
   "cell_type": "code",
   "execution_count": 3,
   "id": "7fa9d5b6",
   "metadata": {
    "id": "7fa9d5b6",
    "outputId": "1ae756e4-d64e-4d51-a5a4-2b693ea2a418"
   },
   "outputs": [
    {
     "data": {
      "text/plain": [
       "str"
      ]
     },
     "execution_count": 3,
     "metadata": {},
     "output_type": "execute_result"
    }
   ],
   "source": [
    "# 4.03 \n",
    "a = '9'\n",
    "type (a)"
   ]
  },
  {
   "cell_type": "code",
   "execution_count": 4,
   "id": "8b53399f",
   "metadata": {
    "id": "8b53399f",
    "outputId": "054802ba-c730-4289-b150-ac25770a1ebd"
   },
   "outputs": [
    {
     "name": "stdout",
     "output_type": "stream",
     "text": [
      "300.0\n",
      "300.0\n"
     ]
    },
    {
     "data": {
      "text/plain": [
       "True"
      ]
     },
     "execution_count": 4,
     "metadata": {},
     "output_type": "execute_result"
    }
   ],
   "source": [
    "# 4.15\n",
    "print (3E2)\n",
    "print (3e2)\n",
    "3E2 == 3e2"
   ]
  },
  {
   "cell_type": "code",
   "execution_count": 5,
   "id": "74323475",
   "metadata": {
    "id": "74323475",
    "outputId": "76a12ef3-4201-4fb2-c401-965e5b1d3e1e"
   },
   "outputs": [
    {
     "data": {
      "text/plain": [
       "True"
      ]
     },
     "execution_count": 5,
     "metadata": {},
     "output_type": "execute_result"
    }
   ],
   "source": [
    "# 4.22\n",
    "n = 3\n",
    "bool (2<n or n == 2+n)"
   ]
  },
  {
   "cell_type": "code",
   "execution_count": 6,
   "id": "7ec3985a",
   "metadata": {
    "id": "7ec3985a",
    "outputId": "07babfa1-ec31-4309-dba3-ae271abc0884"
   },
   "outputs": [
    {
     "data": {
      "text/plain": [
       "False"
      ]
     },
     "execution_count": 6,
     "metadata": {},
     "output_type": "execute_result"
    }
   ],
   "source": [
    "# 4.43\n",
    "l = []\n",
    "bool (l)"
   ]
  },
  {
   "cell_type": "code",
   "execution_count": 7,
   "id": "79cd972e",
   "metadata": {
    "id": "79cd972e",
    "outputId": "12001edf-b7be-4b75-fcb6-a3f221d0aaf6"
   },
   "outputs": [
    {
     "name": "stdout",
     "output_type": "stream",
     "text": [
      "[5, 6, 7, 8, 9, 10]\n"
     ]
    }
   ],
   "source": [
    "# 4.47\n",
    "l = [1,2,3,4,5,6,7,8,9,10]\n",
    "print (l[4::])"
   ]
  },
  {
   "cell_type": "code",
   "execution_count": 8,
   "id": "35cb3319",
   "metadata": {
    "id": "35cb3319",
    "outputId": "059ffd24-860c-445a-cfa2-8091b45a0f9e"
   },
   "outputs": [
    {
     "name": "stdout",
     "output_type": "stream",
     "text": [
      "[1, 3, 5, 7, 9]\n"
     ]
    }
   ],
   "source": [
    "# 4.47\n",
    "l = [1,2,3,4,5,6,7,8,9,10]\n",
    "print (l[::2])"
   ]
  },
  {
   "cell_type": "code",
   "execution_count": 9,
   "id": "c0c3f511",
   "metadata": {
    "id": "c0c3f511",
    "outputId": "a4a2495a-32ea-4e64-a3b5-fc1200522cf2"
   },
   "outputs": [
    {
     "name": "stdout",
     "output_type": "stream",
     "text": [
      "Albany Salem\n"
     ]
    }
   ],
   "source": [
    "# 4.61\n",
    "d = {'Washington':'Olympia', 'Oregon':'Salem'}\n",
    "d ['New York'] = 'Albany'\n",
    "\n",
    "print (d['New York'],d['Oregon'])"
   ]
  },
  {
   "cell_type": "code",
   "execution_count": 11,
   "id": "e802e256",
   "metadata": {
    "id": "e802e256",
    "outputId": "dda015ed-3cf8-4ea0-c890-64b2711f4a4c"
   },
   "outputs": [
    {
     "name": "stdout",
     "output_type": "stream",
     "text": [
      "{'solo': 1}\n"
     ]
    }
   ],
   "source": [
    "# 4.67\n",
    "groups = {'solo':1, 'duo':2}\n",
    "groups.pop('duo')\n",
    "print (groups)\n"
   ]
  },
  {
   "cell_type": "code",
   "execution_count": 12,
   "id": "ab65447d",
   "metadata": {
    "id": "ab65447d",
    "outputId": "16a0ce0e-e389-489b-aab9-e4c9129e81dc",
    "scrolled": true
   },
   "outputs": [
    {
     "ename": "NameError",
     "evalue": "name 'one' is not defined",
     "output_type": "error",
     "traceback": [
      "\u001b[0;31m---------------------------------------------------------------------------\u001b[0m",
      "\u001b[0;31mNameError\u001b[0m                                 Traceback (most recent call last)",
      "\u001b[0;32m/var/folders/yk/k5d_7hg57nx8x0bm9kq7myl80000gn/T/ipykernel_27183/755920970.py\u001b[0m in \u001b[0;36m<module>\u001b[0;34m\u001b[0m\n\u001b[1;32m      1\u001b[0m \u001b[0;31m# 4.82\u001b[0m\u001b[0;34m\u001b[0m\u001b[0;34m\u001b[0m\u001b[0m\n\u001b[1;32m      2\u001b[0m \u001b[0;34m\u001b[0m\u001b[0m\n\u001b[0;32m----> 3\u001b[0;31m \u001b[0md\u001b[0m \u001b[0;34m=\u001b[0m \u001b[0;34m{\u001b[0m\u001b[0mone\u001b[0m\u001b[0;34m:\u001b[0m\u001b[0;36m1\u001b[0m\u001b[0;34m,\u001b[0m \u001b[0mtwo\u001b[0m\u001b[0;34m:\u001b[0m\u001b[0;36m2\u001b[0m\u001b[0;34m,\u001b[0m \u001b[0mthree\u001b[0m\u001b[0;34m:\u001b[0m\u001b[0;36m3\u001b[0m\u001b[0;34m}\u001b[0m\u001b[0;34m\u001b[0m\u001b[0;34m\u001b[0m\u001b[0m\n\u001b[0m\u001b[1;32m      4\u001b[0m \u001b[0md\u001b[0m\u001b[0;34m[\u001b[0m\u001b[0mone\u001b[0m\u001b[0;34m]\u001b[0m\u001b[0;34m\u001b[0m\u001b[0;34m\u001b[0m\u001b[0m\n",
      "\u001b[0;31mNameError\u001b[0m: name 'one' is not defined"
     ]
    }
   ],
   "source": [
    "# 4.82\n",
    "\n",
    "d = {one:1, two:2, three:3}\n",
    "d[one]"
   ]
  },
  {
   "cell_type": "code",
   "execution_count": 13,
   "id": "e580f585",
   "metadata": {
    "id": "e580f585",
    "outputId": "c553530b-b41f-4732-b6cc-186713ee6fb0"
   },
   "outputs": [
    {
     "data": {
      "text/plain": [
       "1"
      ]
     },
     "execution_count": 13,
     "metadata": {},
     "output_type": "execute_result"
    }
   ],
   "source": [
    "# there are no '' around the objects to make them into strings\n",
    "\n",
    "d = {'one':1, 'two':2, 'three':3}\n",
    "d['one']"
   ]
  },
  {
   "cell_type": "code",
   "execution_count": 14,
   "id": "3dc3d99b",
   "metadata": {
    "id": "3dc3d99b",
    "outputId": "3c82db17-c43b-4deb-ff4d-101d1aa049fc"
   },
   "outputs": [
    {
     "ename": "IndexError",
     "evalue": "list index out of range",
     "output_type": "error",
     "traceback": [
      "\u001b[0;31m---------------------------------------------------------------------------\u001b[0m",
      "\u001b[0;31mIndexError\u001b[0m                                Traceback (most recent call last)",
      "\u001b[0;32m/var/folders/yk/k5d_7hg57nx8x0bm9kq7myl80000gn/T/ipykernel_27183/3847293517.py\u001b[0m in \u001b[0;36m<module>\u001b[0;34m\u001b[0m\n\u001b[1;32m      2\u001b[0m \u001b[0;34m\u001b[0m\u001b[0m\n\u001b[1;32m      3\u001b[0m \u001b[0mlst\u001b[0m \u001b[0;34m=\u001b[0m \u001b[0;34m[\u001b[0m\u001b[0;36m1\u001b[0m\u001b[0;34m,\u001b[0m\u001b[0;36m3\u001b[0m\u001b[0;34m,\u001b[0m\u001b[0;36m5\u001b[0m\u001b[0;34m]\u001b[0m\u001b[0;34m\u001b[0m\u001b[0;34m\u001b[0m\u001b[0m\n\u001b[0;32m----> 4\u001b[0;31m \u001b[0mlst\u001b[0m\u001b[0;34m[\u001b[0m\u001b[0;36m3\u001b[0m\u001b[0;34m]\u001b[0m\u001b[0;34m\u001b[0m\u001b[0;34m\u001b[0m\u001b[0m\n\u001b[0m",
      "\u001b[0;31mIndexError\u001b[0m: list index out of range"
     ]
    }
   ],
   "source": [
    "# 4.86\n",
    "\n",
    "lst = [1,3,5]\n",
    "lst[3]"
   ]
  },
  {
   "cell_type": "code",
   "execution_count": 18,
   "id": "3445f414",
   "metadata": {
    "id": "3445f414"
   },
   "outputs": [],
   "source": [
    "# I think that this is trying to call the 3rd item in the list but since\n",
    "# python starts from 0 the 3rd item would be called with l[2].\n",
    "\n"
   ]
  },
  {
   "cell_type": "code",
   "execution_count": 19,
   "id": "f3faf8ce",
   "metadata": {
    "id": "f3faf8ce",
    "outputId": "86b16ad3-64fb-408b-8f27-fe145b6ad7fb"
   },
   "outputs": [
    {
     "data": {
      "text/plain": [
       "5"
      ]
     },
     "execution_count": 19,
     "metadata": {},
     "output_type": "execute_result"
    }
   ],
   "source": [
    "lst = [1,3,5]\n",
    "lst[2]"
   ]
  },
  {
   "cell_type": "code",
   "execution_count": 20,
   "id": "b120691f",
   "metadata": {
    "id": "b120691f",
    "outputId": "e654965b-bb11-4a5a-ddd2-82685fab1f49"
   },
   "outputs": [
    {
     "data": {
      "text/plain": [
       "3"
      ]
     },
     "execution_count": 20,
     "metadata": {},
     "output_type": "execute_result"
    }
   ],
   "source": [
    "# if you were trying to call the 3\n",
    "lst[1]"
   ]
  },
  {
   "cell_type": "code",
   "execution_count": null,
   "id": "612799f8",
   "metadata": {},
   "outputs": [],
   "source": []
  }
 ],
 "metadata": {
  "colab": {
   "provenance": []
  },
  "kernelspec": {
   "display_name": "Python 3 (ipykernel)",
   "language": "python",
   "name": "python3"
  },
  "language_info": {
   "codemirror_mode": {
    "name": "ipython",
    "version": 3
   },
   "file_extension": ".py",
   "mimetype": "text/x-python",
   "name": "python",
   "nbconvert_exporter": "python",
   "pygments_lexer": "ipython3",
   "version": "3.9.13"
  }
 },
 "nbformat": 4,
 "nbformat_minor": 5
}
