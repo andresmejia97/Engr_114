{
 "cells": [
  {
   "attachments": {},
   "cell_type": "markdown",
   "metadata": {},
   "source": [
    "Andres Mejia\n",
    "\n",
    "Engr 114 winter 23\n",
    "\n",
    "Q05.01, Q05.09, Q05.30, Q05.33, Q05.51, Q05.70"
   ]
  },
  {
   "cell_type": "code",
   "execution_count": 2,
   "metadata": {},
   "outputs": [],
   "source": [
    "import numpy as np"
   ]
  },
  {
   "cell_type": "code",
   "execution_count": 5,
   "metadata": {},
   "outputs": [
    {
     "name": "stdout",
     "output_type": "stream",
     "text": [
      "[1 2 3 4]\n",
      "<class 'numpy.ndarray'>\n"
     ]
    }
   ],
   "source": [
    "# 5.01\n",
    "a = np.array([1,2,3,4])\n",
    "print(a)\n",
    "print(type(a))"
   ]
  },
  {
   "cell_type": "code",
   "execution_count": 11,
   "metadata": {},
   "outputs": [
    {
     "name": "stdout",
     "output_type": "stream",
     "text": [
      "[0.         0.05882353 0.11764706 0.17647059 0.23529412 0.29411765\n",
      " 0.35294118 0.41176471 0.47058824 0.52941176 0.58823529 0.64705882\n",
      " 0.70588235 0.76470588 0.82352941 0.88235294 0.94117647 1.        ]\n"
     ]
    }
   ],
   "source": [
    "# 5.09\n",
    "b = np.linspace(0,1,18)\n",
    "print(b)"
   ]
  },
  {
   "cell_type": "code",
   "execution_count": 41,
   "metadata": {},
   "outputs": [
    {
     "name": "stdout",
     "output_type": "stream",
     "text": [
      "[ 0  1  2  3  4  5  6  7  8  9 10 11 12 13 14 15 16 17 18 19 20 21 22 23\n",
      " 24]\n",
      "[[ 0  1  2  3  4]\n",
      " [ 5  6  7  8  9]\n",
      " [10 11 12 13 14]\n",
      " [15 16 17 18 19]\n",
      " [20 21 22 23 24]]\n",
      "[5 6 7 8 9]\n",
      "5\n",
      "[ 4  9 14 19 24]\n",
      "[[ 0  1  2  3  4]\n",
      " [ 5  6  7  8  9]\n",
      " [10 11 12 13 14]\n",
      " [15 16 17 18 19]\n",
      " [20 21 22 23 24]]\n"
     ]
    }
   ],
   "source": [
    "# 5.30\n",
    "b = np.arange(0,25)\n",
    "print(b)\n",
    "b.shape = (5,5)\n",
    "print(b)\n",
    "\n",
    "## a.\n",
    "x = b[1,:]\n",
    "print(x)\n",
    "\n",
    "## b \n",
    "y = np.size(x)\n",
    "print(y)\n",
    "\n",
    "## c \n",
    "z = b[:,4]\n",
    "print(z)\n",
    "\n",
    "## d\n",
    "t = b\n",
    "print(t)\n"
   ]
  },
  {
   "cell_type": "code",
   "execution_count": 49,
   "metadata": {},
   "outputs": [
    {
     "name": "stdout",
     "output_type": "stream",
     "text": [
      "[99. 50.  6. 50. 27. 10.]\n",
      "[ 6. 27. 10.]\n",
      "[50.  6. 50. 27. 10.]\n"
     ]
    }
   ],
   "source": [
    "# 5.33\n",
    "F = np.array([5, -4.7, 99, 50, 6, -1, 0, 50, -78, 27, 10])\n",
    "\n",
    "## a\n",
    "gfive = F > 5\n",
    "x = F[gfive]\n",
    "print(x)\n",
    "\n",
    "## b\n",
    "lthirty = F < 30\n",
    "gl = np.logical_and(gfive,lthirty)\n",
    "y = F[gl]\n",
    "print(y)\n",
    "\n",
    "## c \n",
    "efifty = F == 50\n",
    "gle = np.logical_or(gl,efifty)\n",
    "z = F[gle]\n",
    "print(z)\n"
   ]
  },
  {
   "cell_type": "code",
   "execution_count": 69,
   "metadata": {},
   "outputs": [
    {
     "name": "stdout",
     "output_type": "stream",
     "text": [
      "[0.         1.57079633 3.14159265 4.71238898 6.28318531]\n",
      "[ 0.0000000e+00  1.0000000e+00  1.2246468e-16 -1.0000000e+00\n",
      " -2.4492936e-16]\n",
      "[ 1.0000000e+00  6.1232340e-17 -1.0000000e+00 -1.8369702e-16\n",
      "  1.0000000e+00]\n",
      "[0.         0.02741557 0.05483114 0.0822467  0.10966227]\n"
     ]
    }
   ],
   "source": [
    "# 5.51 \n",
    "angles = np.linspace(0,2*np.pi,5)\n",
    "print(angles)\n",
    "\n",
    "## a\n",
    "print(np.sin(angles))\n",
    "\n",
    "## b \n",
    "print(np.cos(angles))\n",
    "\n",
    "## c\n",
    "print(np.radians(angles))"
   ]
  },
  {
   "cell_type": "code",
   "execution_count": 78,
   "metadata": {},
   "outputs": [
    {
     "name": "stdout",
     "output_type": "stream",
     "text": [
      "[-2.5 16. ]\n",
      "-2.5\n",
      "16.0\n",
      "-42.0\n",
      "31.0\n"
     ]
    }
   ],
   "source": [
    "## 5.70\n",
    "A = np.array([[4,-2], [-6, 1]])\n",
    "b = np.array([-42, 31])\n",
    "c = np.linalg.solve(A, b)\n",
    "print(c)\n",
    "\n",
    "x = c[0]\n",
    "y = c[1]\n",
    "print(x)\n",
    "print(y)\n",
    "\n",
    "print(4*x - 2*y)\n",
    "print(-6*x + y)\n"
   ]
  }
 ],
 "metadata": {
  "kernelspec": {
   "display_name": "base",
   "language": "python",
   "name": "python3"
  },
  "language_info": {
   "codemirror_mode": {
    "name": "ipython",
    "version": 3
   },
   "file_extension": ".py",
   "mimetype": "text/x-python",
   "name": "python",
   "nbconvert_exporter": "python",
   "pygments_lexer": "ipython3",
   "version": "3.9.12"
  },
  "orig_nbformat": 4,
  "vscode": {
   "interpreter": {
    "hash": "c7227f0921c6c9800b7edc8b58eefe31809a2d15506b8e1b5e78203e827c1f0c"
   }
  }
 },
 "nbformat": 4,
 "nbformat_minor": 2
}
